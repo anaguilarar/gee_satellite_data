{
  "nbformat": 4,
  "nbformat_minor": 0,
  "metadata": {
    "colab": {
      "name": "Download Satellite Data.ipynb",
      "provenance": [],
      "include_colab_link": true
    },
    "kernelspec": {
      "display_name": "Python 3",
      "language": "python",
      "name": "python3"
    },
    "language_info": {
      "codemirror_mode": {
        "name": "ipython",
        "version": 3
      },
      "file_extension": ".py",
      "mimetype": "text/x-python",
      "name": "python",
      "nbconvert_exporter": "python",
      "pygments_lexer": "ipython3",
      "version": "3.8.3"
    }
  },
  "cells": [
    {
      "cell_type": "markdown",
      "metadata": {
        "id": "view-in-github",
        "colab_type": "text"
      },
      "source": [
        "<a href=\"https://colab.research.google.com/github/anaguilarar/gee_satellite_data/blob/master/examples/2_Superpixel.ipynb\" target=\"_parent\"><img src=\"https://colab.research.google.com/assets/colab-badge.svg\" alt=\"Open In Colab\"/></a>"
      ]
    },
    {
      "cell_type": "code",
      "metadata": {
        "colab": {
          "base_uri": "https://localhost:8080/"
        },
        "id": "hvtKLEC7yxss",
        "outputId": "edd25c21-e164-40e5-9db9-628feef431f2"
      },
      "source": [
        "!pip uninstall pyproj\n",
        "!pip install pyproj\n",
        "!pip install wget\n",
        "!pip install geehydro\n",
        "!pip install geopandas\n",
        "!pip install rasterio"
      ],
      "execution_count": 1,
      "outputs": [
        {
          "output_type": "stream",
          "text": [
            "\u001b[33mWARNING: Skipping pyproj as it is not installed.\u001b[0m\n",
            "Collecting pyproj\n",
            "\u001b[?25l  Downloading https://files.pythonhosted.org/packages/11/1d/1c54c672c2faf08d28fe78e15d664c048f786225bef95ad87b6c435cf69e/pyproj-3.1.0-cp37-cp37m-manylinux2010_x86_64.whl (6.6MB)\n",
            "\u001b[K     |████████████████████████████████| 6.6MB 12.8MB/s \n",
            "\u001b[?25hRequirement already satisfied: certifi in /usr/local/lib/python3.7/dist-packages (from pyproj) (2020.12.5)\n",
            "Installing collected packages: pyproj\n",
            "Successfully installed pyproj-3.1.0\n",
            "Collecting wget\n",
            "  Downloading https://files.pythonhosted.org/packages/47/6a/62e288da7bcda82b935ff0c6cfe542970f04e29c756b0e147251b2fb251f/wget-3.2.zip\n",
            "Building wheels for collected packages: wget\n",
            "  Building wheel for wget (setup.py) ... \u001b[?25l\u001b[?25hdone\n",
            "  Created wheel for wget: filename=wget-3.2-cp37-none-any.whl size=9675 sha256=846f45d1a9e0c8ac7e3b13eb159bfb0e03efe3627fbd06bbeb30f067d48160dd\n",
            "  Stored in directory: /root/.cache/pip/wheels/40/15/30/7d8f7cea2902b4db79e3fea550d7d7b85ecb27ef992b618f3f\n",
            "Successfully built wget\n",
            "Installing collected packages: wget\n",
            "Successfully installed wget-3.2\n",
            "Collecting geehydro\n",
            "  Downloading https://files.pythonhosted.org/packages/fc/8c/2174f8ad7a02d250094acf9ad30a56e52e9bcfd2ab49de122f21c4ba13dc/geehydro-0.2.0.tar.gz\n",
            "Requirement already satisfied: earthengine-api in /usr/local/lib/python3.7/dist-packages (from geehydro) (0.1.266)\n",
            "Requirement already satisfied: folium in /usr/local/lib/python3.7/dist-packages (from geehydro) (0.8.3)\n",
            "Requirement already satisfied: click in /usr/local/lib/python3.7/dist-packages (from geehydro) (7.1.2)\n",
            "Requirement already satisfied: google-auth>=1.4.1 in /usr/local/lib/python3.7/dist-packages (from earthengine-api->geehydro) (1.30.0)\n",
            "Requirement already satisfied: httplib2<1dev,>=0.9.2 in /usr/local/lib/python3.7/dist-packages (from earthengine-api->geehydro) (0.17.4)\n",
            "Requirement already satisfied: google-cloud-storage in /usr/local/lib/python3.7/dist-packages (from earthengine-api->geehydro) (1.18.1)\n",
            "Requirement already satisfied: google-auth-httplib2>=0.0.3 in /usr/local/lib/python3.7/dist-packages (from earthengine-api->geehydro) (0.0.4)\n",
            "Requirement already satisfied: six in /usr/local/lib/python3.7/dist-packages (from earthengine-api->geehydro) (1.15.0)\n",
            "Requirement already satisfied: httplib2shim in /usr/local/lib/python3.7/dist-packages (from earthengine-api->geehydro) (0.0.3)\n",
            "Requirement already satisfied: future in /usr/local/lib/python3.7/dist-packages (from earthengine-api->geehydro) (0.16.0)\n",
            "Requirement already satisfied: google-api-python-client<2,>=1.12.1 in /usr/local/lib/python3.7/dist-packages (from earthengine-api->geehydro) (1.12.8)\n",
            "Requirement already satisfied: jinja2 in /usr/local/lib/python3.7/dist-packages (from folium->geehydro) (2.11.3)\n",
            "Requirement already satisfied: requests in /usr/local/lib/python3.7/dist-packages (from folium->geehydro) (2.23.0)\n",
            "Requirement already satisfied: numpy in /usr/local/lib/python3.7/dist-packages (from folium->geehydro) (1.19.5)\n",
            "Requirement already satisfied: branca>=0.3.0 in /usr/local/lib/python3.7/dist-packages (from folium->geehydro) (0.4.2)\n",
            "Requirement already satisfied: rsa<5,>=3.1.4; python_version >= \"3.6\" in /usr/local/lib/python3.7/dist-packages (from google-auth>=1.4.1->earthengine-api->geehydro) (4.7.2)\n",
            "Requirement already satisfied: setuptools>=40.3.0 in /usr/local/lib/python3.7/dist-packages (from google-auth>=1.4.1->earthengine-api->geehydro) (57.0.0)\n",
            "Requirement already satisfied: cachetools<5.0,>=2.0.0 in /usr/local/lib/python3.7/dist-packages (from google-auth>=1.4.1->earthengine-api->geehydro) (4.2.2)\n",
            "Requirement already satisfied: pyasn1-modules>=0.2.1 in /usr/local/lib/python3.7/dist-packages (from google-auth>=1.4.1->earthengine-api->geehydro) (0.2.8)\n",
            "Requirement already satisfied: google-cloud-core<2.0dev,>=1.0.0 in /usr/local/lib/python3.7/dist-packages (from google-cloud-storage->earthengine-api->geehydro) (1.0.3)\n",
            "Requirement already satisfied: google-resumable-media<0.5.0dev,>=0.3.1 in /usr/local/lib/python3.7/dist-packages (from google-cloud-storage->earthengine-api->geehydro) (0.4.1)\n",
            "Requirement already satisfied: certifi in /usr/local/lib/python3.7/dist-packages (from httplib2shim->earthengine-api->geehydro) (2020.12.5)\n",
            "Requirement already satisfied: urllib3 in /usr/local/lib/python3.7/dist-packages (from httplib2shim->earthengine-api->geehydro) (1.24.3)\n",
            "Requirement already satisfied: google-api-core<2dev,>=1.21.0 in /usr/local/lib/python3.7/dist-packages (from google-api-python-client<2,>=1.12.1->earthengine-api->geehydro) (1.26.3)\n",
            "Requirement already satisfied: uritemplate<4dev,>=3.0.0 in /usr/local/lib/python3.7/dist-packages (from google-api-python-client<2,>=1.12.1->earthengine-api->geehydro) (3.0.1)\n",
            "Requirement already satisfied: MarkupSafe>=0.23 in /usr/local/lib/python3.7/dist-packages (from jinja2->folium->geehydro) (2.0.1)\n",
            "Requirement already satisfied: idna<3,>=2.5 in /usr/local/lib/python3.7/dist-packages (from requests->folium->geehydro) (2.10)\n",
            "Requirement already satisfied: chardet<4,>=3.0.2 in /usr/local/lib/python3.7/dist-packages (from requests->folium->geehydro) (3.0.4)\n",
            "Requirement already satisfied: pyasn1>=0.1.3 in /usr/local/lib/python3.7/dist-packages (from rsa<5,>=3.1.4; python_version >= \"3.6\"->google-auth>=1.4.1->earthengine-api->geehydro) (0.4.8)\n",
            "Requirement already satisfied: pytz in /usr/local/lib/python3.7/dist-packages (from google-api-core<2dev,>=1.21.0->google-api-python-client<2,>=1.12.1->earthengine-api->geehydro) (2018.9)\n",
            "Requirement already satisfied: packaging>=14.3 in /usr/local/lib/python3.7/dist-packages (from google-api-core<2dev,>=1.21.0->google-api-python-client<2,>=1.12.1->earthengine-api->geehydro) (20.9)\n",
            "Requirement already satisfied: protobuf>=3.12.0 in /usr/local/lib/python3.7/dist-packages (from google-api-core<2dev,>=1.21.0->google-api-python-client<2,>=1.12.1->earthengine-api->geehydro) (3.12.4)\n",
            "Requirement already satisfied: googleapis-common-protos<2.0dev,>=1.6.0 in /usr/local/lib/python3.7/dist-packages (from google-api-core<2dev,>=1.21.0->google-api-python-client<2,>=1.12.1->earthengine-api->geehydro) (1.53.0)\n",
            "Requirement already satisfied: pyparsing>=2.0.2 in /usr/local/lib/python3.7/dist-packages (from packaging>=14.3->google-api-core<2dev,>=1.21.0->google-api-python-client<2,>=1.12.1->earthengine-api->geehydro) (2.4.7)\n",
            "Building wheels for collected packages: geehydro\n",
            "  Building wheel for geehydro (setup.py) ... \u001b[?25l\u001b[?25hdone\n",
            "  Created wheel for geehydro: filename=geehydro-0.2.0-py2.py3-none-any.whl size=10141 sha256=4119d47c392c8b8ab22cd51b400243e17ff7962f028960479428dd0c08f0cf59\n",
            "  Stored in directory: /root/.cache/pip/wheels/c5/07/67/5fa6e7271b46bbe0acafdc7105bbee27a39ab7132d251d822d\n",
            "Successfully built geehydro\n",
            "Installing collected packages: geehydro\n",
            "Successfully installed geehydro-0.2.0\n",
            "Collecting geopandas\n",
            "\u001b[?25l  Downloading https://files.pythonhosted.org/packages/d7/bf/e9cefb69d39155d122b6ddca53893b61535fa6ffdad70bf5ef708977f53f/geopandas-0.9.0-py2.py3-none-any.whl (994kB)\n",
            "\u001b[K     |████████████████████████████████| 1.0MB 16.7MB/s \n",
            "\u001b[?25hRequirement already satisfied: shapely>=1.6 in /usr/local/lib/python3.7/dist-packages (from geopandas) (1.7.1)\n",
            "Requirement already satisfied: pandas>=0.24.0 in /usr/local/lib/python3.7/dist-packages (from geopandas) (1.1.5)\n",
            "Collecting fiona>=1.8\n",
            "\u001b[?25l  Downloading https://files.pythonhosted.org/packages/9c/fc/9807326c37a6bfb2393ae3e1cca147aa74844562c4d5daa782d6e97ad2bc/Fiona-1.8.20-cp37-cp37m-manylinux1_x86_64.whl (15.4MB)\n",
            "\u001b[K     |████████████████████████████████| 15.4MB 255kB/s \n",
            "\u001b[?25hRequirement already satisfied: pyproj>=2.2.0 in /usr/local/lib/python3.7/dist-packages (from geopandas) (3.1.0)\n",
            "Requirement already satisfied: python-dateutil>=2.7.3 in /usr/local/lib/python3.7/dist-packages (from pandas>=0.24.0->geopandas) (2.8.1)\n",
            "Requirement already satisfied: pytz>=2017.2 in /usr/local/lib/python3.7/dist-packages (from pandas>=0.24.0->geopandas) (2018.9)\n",
            "Requirement already satisfied: numpy>=1.15.4 in /usr/local/lib/python3.7/dist-packages (from pandas>=0.24.0->geopandas) (1.19.5)\n",
            "Requirement already satisfied: attrs>=17 in /usr/local/lib/python3.7/dist-packages (from fiona>=1.8->geopandas) (21.2.0)\n",
            "Requirement already satisfied: click>=4.0 in /usr/local/lib/python3.7/dist-packages (from fiona>=1.8->geopandas) (7.1.2)\n",
            "Requirement already satisfied: certifi in /usr/local/lib/python3.7/dist-packages (from fiona>=1.8->geopandas) (2020.12.5)\n",
            "Requirement already satisfied: setuptools in /usr/local/lib/python3.7/dist-packages (from fiona>=1.8->geopandas) (57.0.0)\n",
            "Collecting cligj>=0.5\n",
            "  Downloading https://files.pythonhosted.org/packages/73/86/43fa9f15c5b9fb6e82620428827cd3c284aa933431405d1bcf5231ae3d3e/cligj-0.7.2-py3-none-any.whl\n",
            "Requirement already satisfied: six>=1.7 in /usr/local/lib/python3.7/dist-packages (from fiona>=1.8->geopandas) (1.15.0)\n",
            "Collecting click-plugins>=1.0\n",
            "  Downloading https://files.pythonhosted.org/packages/e9/da/824b92d9942f4e472702488857914bdd50f73021efea15b4cad9aca8ecef/click_plugins-1.1.1-py2.py3-none-any.whl\n",
            "Collecting munch\n",
            "  Downloading https://files.pythonhosted.org/packages/cc/ab/85d8da5c9a45e072301beb37ad7f833cd344e04c817d97e0cc75681d248f/munch-2.5.0-py2.py3-none-any.whl\n",
            "Installing collected packages: cligj, click-plugins, munch, fiona, geopandas\n",
            "Successfully installed click-plugins-1.1.1 cligj-0.7.2 fiona-1.8.20 geopandas-0.9.0 munch-2.5.0\n",
            "Collecting rasterio\n",
            "\u001b[?25l  Downloading https://files.pythonhosted.org/packages/0e/78/c69f7457b7dad6163abde2772abd4c8c0c6498d2ab9fd3f3b0eb73b40951/rasterio-1.2.4-cp37-cp37m-manylinux1_x86_64.whl (19.3MB)\n",
            "\u001b[K     |████████████████████████████████| 19.3MB 1.2MB/s \n",
            "\u001b[?25hCollecting affine\n",
            "  Downloading https://files.pythonhosted.org/packages/ac/a6/1a39a1ede71210e3ddaf623982b06ecfc5c5c03741ae659073159184cd3e/affine-2.3.0-py2.py3-none-any.whl\n",
            "Requirement already satisfied: attrs in /usr/local/lib/python3.7/dist-packages (from rasterio) (21.2.0)\n",
            "Requirement already satisfied: click-plugins in /usr/local/lib/python3.7/dist-packages (from rasterio) (1.1.1)\n",
            "Requirement already satisfied: numpy in /usr/local/lib/python3.7/dist-packages (from rasterio) (1.19.5)\n",
            "Requirement already satisfied: setuptools in /usr/local/lib/python3.7/dist-packages (from rasterio) (57.0.0)\n",
            "Requirement already satisfied: cligj>=0.5 in /usr/local/lib/python3.7/dist-packages (from rasterio) (0.7.2)\n",
            "Collecting snuggs>=1.4.1\n",
            "  Downloading https://files.pythonhosted.org/packages/cc/0e/d27d6e806d6c0d1a2cfdc5d1f088e42339a0a54a09c3343f7f81ec8947ea/snuggs-1.4.7-py3-none-any.whl\n",
            "Requirement already satisfied: certifi in /usr/local/lib/python3.7/dist-packages (from rasterio) (2020.12.5)\n",
            "Requirement already satisfied: click>=4.0 in /usr/local/lib/python3.7/dist-packages (from rasterio) (7.1.2)\n",
            "Requirement already satisfied: pyparsing>=2.1.6 in /usr/local/lib/python3.7/dist-packages (from snuggs>=1.4.1->rasterio) (2.4.7)\n",
            "Installing collected packages: affine, snuggs, rasterio\n",
            "Successfully installed affine-2.3.0 rasterio-1.2.4 snuggs-1.4.7\n"
          ],
          "name": "stdout"
        }
      ]
    },
    {
      "cell_type": "code",
      "metadata": {
        "colab": {
          "base_uri": "https://localhost:8080/"
        },
        "id": "eu6PWMi2zK3X",
        "outputId": "53fa29fb-521b-4b46-ebba-972ae1259039"
      },
      "source": [
        "!git clone https://github.com/anaguilarar/gee_satellite_data.git"
      ],
      "execution_count": 2,
      "outputs": [
        {
          "output_type": "stream",
          "text": [
            "Cloning into 'gee_satellite_data'...\n",
            "remote: Enumerating objects: 415, done.\u001b[K\n",
            "remote: Counting objects: 100% (415/415), done.\u001b[K\n",
            "remote: Compressing objects: 100% (305/305), done.\u001b[K\n",
            "remote: Total 415 (delta 244), reused 257 (delta 106), pack-reused 0\u001b[K\n",
            "Receiving objects: 100% (415/415), 1.87 MiB | 907.00 KiB/s, done.\n",
            "Resolving deltas: 100% (244/244), done.\n"
          ],
          "name": "stdout"
        }
      ]
    },
    {
      "cell_type": "code",
      "metadata": {
        "id": "j9IvtZ6jzVSW"
      },
      "source": [
        "import os\n",
        "os.chdir(\"gee_satellite_data\")"
      ],
      "execution_count": 3,
      "outputs": []
    },
    {
      "cell_type": "code",
      "metadata": {
        "colab": {
          "base_uri": "https://localhost:8080/"
        },
        "id": "lXgcja_uzbWd",
        "outputId": "926b0f75-59cf-4733-bb6e-5f7dce71cb52"
      },
      "source": [
        "import ee\n",
        "ee.Authenticate()"
      ],
      "execution_count": 4,
      "outputs": [
        {
          "output_type": "stream",
          "text": [
            "To authorize access needed by Earth Engine, open the following URL in a web browser and follow the instructions. If the web browser does not start automatically, please manually browse the URL below.\n",
            "\n",
            "    https://accounts.google.com/o/oauth2/auth?client_id=517222506229-vsmmajv00ul0bs7p89v5m89qs8eb9359.apps.googleusercontent.com&scope=https%3A%2F%2Fwww.googleapis.com%2Fauth%2Fearthengine+https%3A%2F%2Fwww.googleapis.com%2Fauth%2Fdevstorage.full_control&redirect_uri=urn%3Aietf%3Awg%3Aoauth%3A2.0%3Aoob&response_type=code&code_challenge=DqCuTS-mxyP91_ZmWxQez_ZvYtyGQy-U24eonNJEssk&code_challenge_method=S256\n",
            "\n",
            "The authorization workflow will generate a code, which you should paste in the box below. \n",
            "Enter verification code: 4/1AY0e-g6ha4Ea5bJghP1y4F6hv--v5h9Lhh-0esbivRbCTC-N15SNlclfgtU\n",
            "\n",
            "Successfully saved authorization token.\n"
          ],
          "name": "stdout"
        }
      ]
    },
    {
      "cell_type": "code",
      "metadata": {
        "id": "drFLaiw0yxsz"
      },
      "source": [
        "import pandas as pd\n",
        "from scripts import gee_satellite_data\n",
        "from scripts import gee_functions\n",
        "from scripts import gis_functions\n",
        "from scripts import general_functions"
      ],
      "execution_count": 5,
      "outputs": []
    },
    {
      "cell_type": "markdown",
      "metadata": {
        "id": "eTxEjEg_5Sau"
      },
      "source": [
        "## Superpixel: Image Segmentation\n",
        "In the next section we use the segmetation Simple Non-Iterative Clustering (SNIC) module from GEE (https://developers.google.com/earth-engine/apidocs/ee-algorithms-image-segmentation-snic) to create image segments. \n",
        "Each of these segments will be treated as a superpixel. \n",
        "\n",
        "We will use each of the superpixels as the input features for the radar images smoothing. we are going trough following steps, to get a radar images smoothing using superpixels from optical images:\n",
        " * Apply image segmention to optical images\n",
        " * Get polygons from superpixels\n",
        " * reduce each radar image using the oplygons\n"
      ]
    },
    {
      "cell_type": "markdown",
      "metadata": {
        "id": "J1j2mWku5Sap"
      },
      "source": [
        "### Sentinel 2A: Top of Athmospheric\n",
        "\n",
        "Before downloading data, the code internally removes those areas covered by shadows and clouds. "
      ]
    },
    {
      "cell_type": "code",
      "metadata": {
        "id": "oT7nEWUy5Saq"
      },
      "source": [
        "se2_toa = gee_satellite_data.get_gee_data(\"2016-01-01\",\n",
        "                                            \"2016-05-30\", \n",
        "                                            \"data/col_iba.shp\", \n",
        "                                            \"sentinel2_toa\",\n",
        "                                         cloud_percentage= 80)"
      ],
      "execution_count": 8,
      "outputs": []
    },
    {
      "cell_type": "markdown",
      "metadata": {
        "id": "zTfoKyap5Sar"
      },
      "source": [
        "As a result, we get a list which contains the images available for quering period. Besides a cover percentage feature is calculted, it reffers to ratio of image clean area respect to our area of interest."
      ]
    },
    {
      "cell_type": "code",
      "metadata": {
        "id": "56pBOLe25Sat",
        "colab": {
          "base_uri": "https://localhost:8080/",
          "height": 297
        },
        "outputId": "58dad23a-b238-44ca-87d7-feb8d3fbdb32"
      },
      "source": [
        "se2_toa.summary"
      ],
      "execution_count": 9,
      "outputs": [
        {
          "output_type": "execute_result",
          "data": {
            "text/html": [
              "<div>\n",
              "<style scoped>\n",
              "    .dataframe tbody tr th:only-of-type {\n",
              "        vertical-align: middle;\n",
              "    }\n",
              "\n",
              "    .dataframe tbody tr th {\n",
              "        vertical-align: top;\n",
              "    }\n",
              "\n",
              "    .dataframe thead th {\n",
              "        text-align: right;\n",
              "    }\n",
              "</style>\n",
              "<table border=\"1\" class=\"dataframe\">\n",
              "  <thead>\n",
              "    <tr style=\"text-align: right;\">\n",
              "      <th></th>\n",
              "      <th>dates</th>\n",
              "      <th>cover_percentage</th>\n",
              "    </tr>\n",
              "  </thead>\n",
              "  <tbody>\n",
              "    <tr>\n",
              "      <th>0</th>\n",
              "      <td>2016-01-10</td>\n",
              "      <td>0.000000</td>\n",
              "    </tr>\n",
              "    <tr>\n",
              "      <th>1</th>\n",
              "      <td>2016-01-30</td>\n",
              "      <td>62.109063</td>\n",
              "    </tr>\n",
              "    <tr>\n",
              "      <th>2</th>\n",
              "      <td>2016-02-09</td>\n",
              "      <td>95.312521</td>\n",
              "    </tr>\n",
              "    <tr>\n",
              "      <th>3</th>\n",
              "      <td>2016-02-19</td>\n",
              "      <td>78.831127</td>\n",
              "    </tr>\n",
              "    <tr>\n",
              "      <th>4</th>\n",
              "      <td>2016-03-10</td>\n",
              "      <td>54.574607</td>\n",
              "    </tr>\n",
              "    <tr>\n",
              "      <th>5</th>\n",
              "      <td>2016-04-19</td>\n",
              "      <td>88.340379</td>\n",
              "    </tr>\n",
              "    <tr>\n",
              "      <th>6</th>\n",
              "      <td>2016-04-29</td>\n",
              "      <td>32.501608</td>\n",
              "    </tr>\n",
              "    <tr>\n",
              "      <th>7</th>\n",
              "      <td>2016-05-19</td>\n",
              "      <td>95.054495</td>\n",
              "    </tr>\n",
              "  </tbody>\n",
              "</table>\n",
              "</div>"
            ],
            "text/plain": [
              "       dates  cover_percentage\n",
              "0 2016-01-10          0.000000\n",
              "1 2016-01-30         62.109063\n",
              "2 2016-02-09         95.312521\n",
              "3 2016-02-19         78.831127\n",
              "4 2016-03-10         54.574607\n",
              "5 2016-04-19         88.340379\n",
              "6 2016-04-29         32.501608\n",
              "7 2016-05-19         95.054495"
            ]
          },
          "metadata": {
            "tags": []
          },
          "execution_count": 9
        }
      ]
    },
    {
      "cell_type": "code",
      "metadata": {
        "id": "1Qk595O35Sau",
        "colab": {
          "base_uri": "https://localhost:8080/"
        },
        "outputId": "6ca50a03-96f2-4b42-d7a3-ee7f64ba55f1"
      },
      "source": [
        "se2_toa.add_vi_layer(\"ndvi\")\n",
        "cover_percentage = 81\n",
        "\n",
        "## filter collection by cover percentage\n",
        "imgcollection = gee_functions.filtering_bycoverpercentage(se2_toa, cover_percentage)\n",
        "imgcollection = imgcollection.map(lambda img:\n",
        "                                  img.unmask(0).clip(se2_toa._ee_sp))\n",
        "## get image segmentation using SNIC method\n",
        "snic = gee_functions.gee_snic(imgcollection,se2_toa._ee_sp, bands = [\"ndvi\"] )\n",
        "### from image segments to polygons\n",
        "polygons_fromseg = gee_functions.raster_to_polygons(snic, imgcollection.select([\"ndvi\"]\n",
        "                                        ).median().clip(se2_toa._ee_sp), se2_toa._ee_sp, scale = 10)\n",
        "\n"
      ],
      "execution_count": 10,
      "outputs": [
        {
          "output_type": "stream",
          "text": [
            "total images: 8 \n",
            "total images after cover filter: 3\n"
          ],
          "name": "stdout"
        }
      ]
    },
    {
      "cell_type": "code",
      "metadata": {
        "id": "0_8SC7OT5Sav",
        "colab": {
          "base_uri": "https://localhost:8080/",
          "height": 904
        },
        "outputId": "ec27635b-5068-461d-b6c7-769957fdcef6"
      },
      "source": [
        "### in this cell we are going to show the collection median, to visualize the image that will be used for segmentation\n",
        "\n",
        "truecolorParams = {'gamma': 1.3, \n",
        "                   'min': 0,\n",
        "                   'max': 0.3,\n",
        "                   'bands': ['B4','B3','B2']\n",
        "                   }\n",
        "\n",
        "imagetoplot = imgcollection.median()\n",
        "gee_satellite_data.plot_eeimage(imagetoplot, truecolorParams, se2_toa.geometry, zoom = 11)"
      ],
      "execution_count": 11,
      "outputs": [
        {
          "output_type": "execute_result",
          "data": {
            "text/html": [
              "<div style=\"width:100%;\"><div style=\"position:relative;width:100%;height:0;padding-bottom:60%;\"><span style=\"color:#565656\">Make this Notebook Trusted to load map: File -> Trust Notebook</span><iframe src=\"about:blank\" style=\"position:absolute;width:100%;height:100%;left:0;top:0;border:none !important;\" data-html=%3C%21DOCTYPE%20html%3E%0A%3Chead%3E%20%20%20%20%0A%20%20%20%20%3Cmeta%20http-equiv%3D%22content-type%22%20content%3D%22text/html%3B%20charset%3DUTF-8%22%20/%3E%0A%20%20%20%20%3Cscript%3EL_PREFER_CANVAS%3Dfalse%3B%20L_NO_TOUCH%3Dfalse%3B%20L_DISABLE_3D%3Dfalse%3B%3C/script%3E%0A%20%20%20%20%3Cscript%20src%3D%22https%3A//cdn.jsdelivr.net/npm/leaflet%401.4.0/dist/leaflet.js%22%3E%3C/script%3E%0A%20%20%20%20%3Cscript%20src%3D%22https%3A//code.jquery.com/jquery-1.12.4.min.js%22%3E%3C/script%3E%0A%20%20%20%20%3Cscript%20src%3D%22https%3A//maxcdn.bootstrapcdn.com/bootstrap/3.2.0/js/bootstrap.min.js%22%3E%3C/script%3E%0A%20%20%20%20%3Cscript%20src%3D%22https%3A//cdnjs.cloudflare.com/ajax/libs/Leaflet.awesome-markers/2.0.2/leaflet.awesome-markers.js%22%3E%3C/script%3E%0A%20%20%20%20%3Clink%20rel%3D%22stylesheet%22%20href%3D%22https%3A//cdn.jsdelivr.net/npm/leaflet%401.4.0/dist/leaflet.css%22/%3E%0A%20%20%20%20%3Clink%20rel%3D%22stylesheet%22%20href%3D%22https%3A//maxcdn.bootstrapcdn.com/bootstrap/3.2.0/css/bootstrap.min.css%22/%3E%0A%20%20%20%20%3Clink%20rel%3D%22stylesheet%22%20href%3D%22https%3A//maxcdn.bootstrapcdn.com/bootstrap/3.2.0/css/bootstrap-theme.min.css%22/%3E%0A%20%20%20%20%3Clink%20rel%3D%22stylesheet%22%20href%3D%22https%3A//maxcdn.bootstrapcdn.com/font-awesome/4.6.3/css/font-awesome.min.css%22/%3E%0A%20%20%20%20%3Clink%20rel%3D%22stylesheet%22%20href%3D%22https%3A//cdnjs.cloudflare.com/ajax/libs/Leaflet.awesome-markers/2.0.2/leaflet.awesome-markers.css%22/%3E%0A%20%20%20%20%3Clink%20rel%3D%22stylesheet%22%20href%3D%22https%3A//rawcdn.githack.com/python-visualization/folium/master/folium/templates/leaflet.awesome.rotate.css%22/%3E%0A%20%20%20%20%3Cstyle%3Ehtml%2C%20body%20%7Bwidth%3A%20100%25%3Bheight%3A%20100%25%3Bmargin%3A%200%3Bpadding%3A%200%3B%7D%3C/style%3E%0A%20%20%20%20%3Cstyle%3E%23map%20%7Bposition%3Aabsolute%3Btop%3A0%3Bbottom%3A0%3Bright%3A0%3Bleft%3A0%3B%7D%3C/style%3E%0A%20%20%20%20%0A%20%20%20%20%3Cmeta%20name%3D%22viewport%22%20content%3D%22width%3Ddevice-width%2C%0A%20%20%20%20%20%20%20%20initial-scale%3D1.0%2C%20maximum-scale%3D1.0%2C%20user-scalable%3Dno%22%20/%3E%0A%20%20%20%20%3Cstyle%3E%23map_f676f25bccf546ba89e4d1b2dd6787f8%20%7B%0A%20%20%20%20%20%20%20%20position%3A%20relative%3B%0A%20%20%20%20%20%20%20%20width%3A%20100.0%25%3B%0A%20%20%20%20%20%20%20%20height%3A%20100.0%25%3B%0A%20%20%20%20%20%20%20%20left%3A%200.0%25%3B%0A%20%20%20%20%20%20%20%20top%3A%200.0%25%3B%0A%20%20%20%20%20%20%20%20%7D%0A%20%20%20%20%3C/style%3E%0A%20%20%20%20%3Cscript%20src%3D%22https%3A//cdnjs.cloudflare.com/ajax/libs/leaflet.fullscreen/1.4.2/Control.FullScreen.min.js%22%3E%3C/script%3E%0A%20%20%20%20%3Clink%20rel%3D%22stylesheet%22%20href%3D%22https%3A//cdnjs.cloudflare.com/ajax/libs/leaflet.fullscreen/1.4.2/Control.FullScreen.min.css%22/%3E%0A%3C/head%3E%0A%3Cbody%3E%20%20%20%20%0A%20%20%20%20%0A%20%20%20%20%3Cdiv%20class%3D%22folium-map%22%20id%3D%22map_f676f25bccf546ba89e4d1b2dd6787f8%22%20%3E%3C/div%3E%0A%3C/body%3E%0A%3Cscript%3E%20%20%20%20%0A%20%20%20%20%0A%20%20%20%20%0A%20%20%20%20%20%20%20%20var%20bounds%20%3D%20null%3B%0A%20%20%20%20%0A%0A%20%20%20%20var%20map_f676f25bccf546ba89e4d1b2dd6787f8%20%3D%20L.map%28%0A%20%20%20%20%20%20%20%20%27map_f676f25bccf546ba89e4d1b2dd6787f8%27%2C%20%7B%0A%20%20%20%20%20%20%20%20center%3A%20%5B4.430352442169409%2C%20-75.11855402808524%5D%2C%0A%20%20%20%20%20%20%20%20zoom%3A%2011%2C%0A%20%20%20%20%20%20%20%20maxBounds%3A%20bounds%2C%0A%20%20%20%20%20%20%20%20layers%3A%20%5B%5D%2C%0A%20%20%20%20%20%20%20%20worldCopyJump%3A%20false%2C%0A%20%20%20%20%20%20%20%20crs%3A%20L.CRS.EPSG3857%2C%0A%20%20%20%20%20%20%20%20zoomControl%3A%20true%2C%0A%20%20%20%20%20%20%20%20%7D%29%3B%0A%0A%0A%20%20%20%20%0A%20%20%20%20var%20tile_layer_21e9df143a84435bacedf5d56525bb5d%20%3D%20L.tileLayer%28%0A%20%20%20%20%20%20%20%20%27https%3A//%7Bs%7D.tile.openstreetmap.org/%7Bz%7D/%7Bx%7D/%7By%7D.png%27%2C%0A%20%20%20%20%20%20%20%20%7B%0A%20%20%20%20%20%20%20%20%22attribution%22%3A%20null%2C%0A%20%20%20%20%20%20%20%20%22detectRetina%22%3A%20false%2C%0A%20%20%20%20%20%20%20%20%22maxNativeZoom%22%3A%2018%2C%0A%20%20%20%20%20%20%20%20%22maxZoom%22%3A%2018%2C%0A%20%20%20%20%20%20%20%20%22minZoom%22%3A%200%2C%0A%20%20%20%20%20%20%20%20%22noWrap%22%3A%20false%2C%0A%20%20%20%20%20%20%20%20%22opacity%22%3A%201%2C%0A%20%20%20%20%20%20%20%20%22subdomains%22%3A%20%22abc%22%2C%0A%20%20%20%20%20%20%20%20%22tms%22%3A%20false%0A%7D%29.addTo%28map_f676f25bccf546ba89e4d1b2dd6787f8%29%3B%0A%20%20%20%20var%20tile_layer_c20d30d2e84d4f3dac2affbaedd4c900%20%3D%20L.tileLayer%28%0A%20%20%20%20%20%20%20%20%27https%3A//earthengine.googleapis.com/v1alpha/projects/earthengine-legacy/maps/74a5bd72e472a7276e4995073163ec70-90f1449b242d5699300707af3e335bbb/tiles/%7Bz%7D/%7Bx%7D/%7By%7D%27%2C%0A%20%20%20%20%20%20%20%20%7B%0A%20%20%20%20%20%20%20%20%22attribution%22%3A%20%22Google%20Earth%20Engine%22%2C%0A%20%20%20%20%20%20%20%20%22detectRetina%22%3A%20false%2C%0A%20%20%20%20%20%20%20%20%22maxNativeZoom%22%3A%2018%2C%0A%20%20%20%20%20%20%20%20%22maxZoom%22%3A%2018%2C%0A%20%20%20%20%20%20%20%20%22minZoom%22%3A%200%2C%0A%20%20%20%20%20%20%20%20%22noWrap%22%3A%20false%2C%0A%20%20%20%20%20%20%20%20%22opacity%22%3A%201%2C%0A%20%20%20%20%20%20%20%20%22subdomains%22%3A%20%22abc%22%2C%0A%20%20%20%20%20%20%20%20%22tms%22%3A%20false%0A%7D%29.addTo%28map_f676f25bccf546ba89e4d1b2dd6787f8%29%3B%0A%20%20%20%20var%20tile_layer_b6bd3c3260fc48a89eea495ccb90e475%20%3D%20L.tileLayer%28%0A%20%20%20%20%20%20%20%20%27https%3A//earthengine.googleapis.com/v1alpha/projects/earthengine-legacy/maps/c9014001a4b8464c096f4e72ad596049-7259cee57868ad560b168306b35c940f/tiles/%7Bz%7D/%7Bx%7D/%7By%7D%27%2C%0A%20%20%20%20%20%20%20%20%7B%0A%20%20%20%20%20%20%20%20%22attribution%22%3A%20%22Google%20Earth%20Engine%22%2C%0A%20%20%20%20%20%20%20%20%22detectRetina%22%3A%20false%2C%0A%20%20%20%20%20%20%20%20%22maxNativeZoom%22%3A%2018%2C%0A%20%20%20%20%20%20%20%20%22maxZoom%22%3A%2018%2C%0A%20%20%20%20%20%20%20%20%22minZoom%22%3A%200%2C%0A%20%20%20%20%20%20%20%20%22noWrap%22%3A%20false%2C%0A%20%20%20%20%20%20%20%20%22opacity%22%3A%201%2C%0A%20%20%20%20%20%20%20%20%22subdomains%22%3A%20%22abc%22%2C%0A%20%20%20%20%20%20%20%20%22tms%22%3A%20false%0A%7D%29.addTo%28map_f676f25bccf546ba89e4d1b2dd6787f8%29%3B%0A%20%20%20%20%0A%20%20%20%20%20%20%20%20%20%20%20%20var%20layer_control_a0227223fbd04509b88bf44f73a07221%20%3D%20%7B%0A%20%20%20%20%20%20%20%20%20%20%20%20%20%20%20%20base_layers%20%3A%20%7B%20%22openstreetmap%22%20%3A%20tile_layer_21e9df143a84435bacedf5d56525bb5d%2C%20%7D%2C%0A%20%20%20%20%20%20%20%20%20%20%20%20%20%20%20%20overlays%20%3A%20%7B%20%22gee%20image%22%20%3A%20tile_layer_c20d30d2e84d4f3dac2affbaedd4c900%2C%22region%20of%20interest%3A%22%20%3A%20tile_layer_b6bd3c3260fc48a89eea495ccb90e475%2C%20%7D%0A%20%20%20%20%20%20%20%20%20%20%20%20%20%20%20%20%7D%3B%0A%20%20%20%20%20%20%20%20%20%20%20%20L.control.layers%28%0A%20%20%20%20%20%20%20%20%20%20%20%20%20%20%20%20layer_control_a0227223fbd04509b88bf44f73a07221.base_layers%2C%0A%20%20%20%20%20%20%20%20%20%20%20%20%20%20%20%20layer_control_a0227223fbd04509b88bf44f73a07221.overlays%2C%0A%20%20%20%20%20%20%20%20%20%20%20%20%20%20%20%20%7Bposition%3A%20%27topright%27%2C%0A%20%20%20%20%20%20%20%20%20%20%20%20%20%20%20%20%20collapsed%3A%20true%2C%0A%20%20%20%20%20%20%20%20%20%20%20%20%20%20%20%20%20autoZIndex%3A%20true%0A%20%20%20%20%20%20%20%20%20%20%20%20%20%20%20%20%7D%29.addTo%28map_f676f25bccf546ba89e4d1b2dd6787f8%29%3B%0A%20%20%20%20%20%20%20%20%20%20%20%20%0A%20%20%20%20%20%20%20%20%0A%20%20%20%20%0A%20%20%20%20%20%20%20%20%20%20%20%20L.control.fullscreen%28%7B%0A%20%20%20%20%20%20%20%20%20%20%20%20%20%20%20%20position%3A%20%27topleft%27%2C%0A%20%20%20%20%20%20%20%20%20%20%20%20%20%20%20%20title%3A%20%27Full%20Screen%27%2C%0A%20%20%20%20%20%20%20%20%20%20%20%20%20%20%20%20titleCancel%3A%20%27Exit%20Full%20Screen%27%2C%0A%20%20%20%20%20%20%20%20%20%20%20%20%20%20%20%20forceSeparateButton%3A%20false%2C%0A%20%20%20%20%20%20%20%20%20%20%20%20%20%20%20%20%7D%29.addTo%28map_f676f25bccf546ba89e4d1b2dd6787f8%29%3B%0A%20%20%20%20%20%20%20%20%20%20%20%20map_f676f25bccf546ba89e4d1b2dd6787f8.on%28%27enterFullscreen%27%2C%20function%28%29%7B%0A%20%20%20%20%20%20%20%20%20%20%20%20%20%20%20%20console.log%28%27entered%20fullscreen%27%29%3B%0A%20%20%20%20%20%20%20%20%20%20%20%20%7D%29%3B%0A%0A%20%20%20%20%20%20%20%20%0A%20%20%20%20%0A%20%20%20%20%20%20%20%20%20%20%20%20%20%20%20%20var%20lat_lng_popup_2114d8e3ce444c8fb059648f3fe928d8%20%3D%20L.popup%28%29%3B%0A%20%20%20%20%20%20%20%20%20%20%20%20%20%20%20%20function%20latLngPop%28e%29%20%7B%0A%20%20%20%20%20%20%20%20%20%20%20%20%20%20%20%20%20%20%20%20lat_lng_popup_2114d8e3ce444c8fb059648f3fe928d8%0A%20%20%20%20%20%20%20%20%20%20%20%20%20%20%20%20%20%20%20%20%20%20%20%20.setLatLng%28e.latlng%29%0A%20%20%20%20%20%20%20%20%20%20%20%20%20%20%20%20%20%20%20%20%20%20%20%20.setContent%28%22Latitude%3A%20%22%20%2B%20e.latlng.lat.toFixed%284%29%20%2B%0A%20%20%20%20%20%20%20%20%20%20%20%20%20%20%20%20%20%20%20%20%20%20%20%20%20%20%20%20%20%20%20%20%20%20%20%20%22%3Cbr%3ELongitude%3A%20%22%20%2B%20e.latlng.lng.toFixed%284%29%29%0A%20%20%20%20%20%20%20%20%20%20%20%20%20%20%20%20%20%20%20%20%20%20%20%20.openOn%28map_f676f25bccf546ba89e4d1b2dd6787f8%29%3B%0A%20%20%20%20%20%20%20%20%20%20%20%20%20%20%20%20%20%20%20%20%7D%0A%20%20%20%20%20%20%20%20%20%20%20%20%20%20%20%20map_f676f25bccf546ba89e4d1b2dd6787f8.on%28%27click%27%2C%20latLngPop%29%3B%0A%20%20%20%20%20%20%20%20%20%20%20%20%0A%3C/script%3E onload=\"this.contentDocument.open();this.contentDocument.write(    decodeURIComponent(this.getAttribute('data-html')));this.contentDocument.close();\" allowfullscreen webkitallowfullscreen mozallowfullscreen></iframe></div></div>"
            ],
            "text/plain": [
              "<folium.folium.Map at 0x7fef6076c7d0>"
            ]
          },
          "metadata": {
            "tags": []
          },
          "execution_count": 11
        }
      ]
    },
    {
      "cell_type": "markdown",
      "metadata": {
        "id": "UsmUxwcyyxs2"
      },
      "source": [
        "### Sentinel 1 \n",
        "The instrument onboard the Sentinel-1 satellites transmits in one polarisation (V) and measures in two (V and H), giving the VV and VH bands. The first band in each data file is the signal measured in the same polarisation as the transmission (VV) and the second is measured in the orthogonal polarisation (VH).\n"
      ]
    },
    {
      "cell_type": "code",
      "metadata": {
        "id": "_Jcq3j3uyxs2",
        "colab": {
          "base_uri": "https://localhost:8080/",
          "height": 607
        },
        "outputId": "0d14a87b-6372-4509-e8ed-ac190745f136"
      },
      "source": [
        "s1_imagery = gee_satellite_data.get_gee_data(\"2016-02-01\",\n",
        "                                            \"2016-08-31\", \n",
        "                                            \"data/col_iba.shp\", \n",
        "                                            \"sentinel1\", bands = ['VV'])\n",
        "s1_imagery.summary"
      ],
      "execution_count": 12,
      "outputs": [
        {
          "output_type": "execute_result",
          "data": {
            "text/html": [
              "<div>\n",
              "<style scoped>\n",
              "    .dataframe tbody tr th:only-of-type {\n",
              "        vertical-align: middle;\n",
              "    }\n",
              "\n",
              "    .dataframe tbody tr th {\n",
              "        vertical-align: top;\n",
              "    }\n",
              "\n",
              "    .dataframe thead th {\n",
              "        text-align: right;\n",
              "    }\n",
              "</style>\n",
              "<table border=\"1\" class=\"dataframe\">\n",
              "  <thead>\n",
              "    <tr style=\"text-align: right;\">\n",
              "      <th></th>\n",
              "      <th>dates</th>\n",
              "      <th>cover_percentage</th>\n",
              "    </tr>\n",
              "  </thead>\n",
              "  <tbody>\n",
              "    <tr>\n",
              "      <th>0</th>\n",
              "      <td>2016-03-26 23:13:23</td>\n",
              "      <td>99.584903</td>\n",
              "    </tr>\n",
              "    <tr>\n",
              "      <th>1</th>\n",
              "      <td>2016-05-13 23:13:30</td>\n",
              "      <td>99.586662</td>\n",
              "    </tr>\n",
              "    <tr>\n",
              "      <th>2</th>\n",
              "      <td>2016-02-07 23:13:28</td>\n",
              "      <td>99.551558</td>\n",
              "    </tr>\n",
              "    <tr>\n",
              "      <th>3</th>\n",
              "      <td>2016-02-14 10:42:34</td>\n",
              "      <td>99.560758</td>\n",
              "    </tr>\n",
              "    <tr>\n",
              "      <th>4</th>\n",
              "      <td>2016-03-02 23:13:28</td>\n",
              "      <td>99.573275</td>\n",
              "    </tr>\n",
              "    <tr>\n",
              "      <th>5</th>\n",
              "      <td>2016-03-09 10:42:33</td>\n",
              "      <td>99.572886</td>\n",
              "    </tr>\n",
              "    <tr>\n",
              "      <th>6</th>\n",
              "      <td>2016-04-02 10:42:34</td>\n",
              "      <td>99.536986</td>\n",
              "    </tr>\n",
              "    <tr>\n",
              "      <th>7</th>\n",
              "      <td>2016-04-19 23:13:29</td>\n",
              "      <td>99.525030</td>\n",
              "    </tr>\n",
              "    <tr>\n",
              "      <th>8</th>\n",
              "      <td>2016-04-26 10:42:35</td>\n",
              "      <td>99.534075</td>\n",
              "    </tr>\n",
              "    <tr>\n",
              "      <th>9</th>\n",
              "      <td>2016-05-20 10:42:37</td>\n",
              "      <td>99.550265</td>\n",
              "    </tr>\n",
              "    <tr>\n",
              "      <th>10</th>\n",
              "      <td>2016-06-06 23:13:32</td>\n",
              "      <td>99.585277</td>\n",
              "    </tr>\n",
              "    <tr>\n",
              "      <th>11</th>\n",
              "      <td>2016-06-13 10:42:38</td>\n",
              "      <td>99.558734</td>\n",
              "    </tr>\n",
              "    <tr>\n",
              "      <th>12</th>\n",
              "      <td>2016-06-30 23:13:33</td>\n",
              "      <td>99.577929</td>\n",
              "    </tr>\n",
              "    <tr>\n",
              "      <th>13</th>\n",
              "      <td>2016-07-07 10:42:40</td>\n",
              "      <td>99.591925</td>\n",
              "    </tr>\n",
              "    <tr>\n",
              "      <th>14</th>\n",
              "      <td>2016-07-24 23:13:34</td>\n",
              "      <td>99.587970</td>\n",
              "    </tr>\n",
              "    <tr>\n",
              "      <th>15</th>\n",
              "      <td>2016-07-31 10:42:41</td>\n",
              "      <td>99.557069</td>\n",
              "    </tr>\n",
              "    <tr>\n",
              "      <th>16</th>\n",
              "      <td>2016-08-17 23:13:36</td>\n",
              "      <td>99.568838</td>\n",
              "    </tr>\n",
              "    <tr>\n",
              "      <th>17</th>\n",
              "      <td>2016-08-24 10:42:42</td>\n",
              "      <td>99.549301</td>\n",
              "    </tr>\n",
              "  </tbody>\n",
              "</table>\n",
              "</div>"
            ],
            "text/plain": [
              "                 dates  cover_percentage\n",
              "0  2016-03-26 23:13:23         99.584903\n",
              "1  2016-05-13 23:13:30         99.586662\n",
              "2  2016-02-07 23:13:28         99.551558\n",
              "3  2016-02-14 10:42:34         99.560758\n",
              "4  2016-03-02 23:13:28         99.573275\n",
              "5  2016-03-09 10:42:33         99.572886\n",
              "6  2016-04-02 10:42:34         99.536986\n",
              "7  2016-04-19 23:13:29         99.525030\n",
              "8  2016-04-26 10:42:35         99.534075\n",
              "9  2016-05-20 10:42:37         99.550265\n",
              "10 2016-06-06 23:13:32         99.585277\n",
              "11 2016-06-13 10:42:38         99.558734\n",
              "12 2016-06-30 23:13:33         99.577929\n",
              "13 2016-07-07 10:42:40         99.591925\n",
              "14 2016-07-24 23:13:34         99.587970\n",
              "15 2016-07-31 10:42:41         99.557069\n",
              "16 2016-08-17 23:13:36         99.568838\n",
              "17 2016-08-24 10:42:42         99.549301"
            ]
          },
          "metadata": {
            "tags": []
          },
          "execution_count": 12
        }
      ]
    },
    {
      "cell_type": "markdown",
      "metadata": {
        "id": "XtqFR0VJyxs4"
      },
      "source": [
        "Due to Sentinel 1 mission has two satellites (a and b), it can orbit the earth in a different orientation (Ascending and Descending), the  6 days data can be summarised averaging over a time window. "
      ]
    },
    {
      "cell_type": "code",
      "metadata": {
        "colab": {
          "base_uri": "https://localhost:8080/"
        },
        "id": "GVg1oI70yxs4",
        "outputId": "50215323-2500-436f-c014-21f334570e97"
      },
      "source": [
        "s1_imagery.reduce_collection_by_days(10)\n",
        "s1_imagery._dates_reduced"
      ],
      "execution_count": 13,
      "outputs": [
        {
          "output_type": "execute_result",
          "data": {
            "text/plain": [
              "0    2016-02-11 04:58:01\n",
              "1    2016-03-02 23:13:28\n",
              "2    2016-03-09 10:42:33\n",
              "3    2016-03-26 23:13:23\n",
              "4    2016-04-02 10:42:34\n",
              "5    2016-04-23 04:58:02\n",
              "6    2016-05-13 23:13:30\n",
              "7    2016-05-20 10:42:37\n",
              "8    2016-06-10 04:58:05\n",
              "9    2016-06-30 23:13:33\n",
              "10   2016-07-07 10:42:40\n",
              "11   2016-07-24 23:13:34\n",
              "12   2016-07-31 10:42:41\n",
              "dtype: datetime64[ns]"
            ]
          },
          "metadata": {
            "tags": []
          },
          "execution_count": 13
        }
      ]
    },
    {
      "cell_type": "code",
      "metadata": {
        "id": "jlGoljFd5Sax"
      },
      "source": [
        "s1datasuperpixel= s1_imagery.image_collection.map(lambda image:\n",
        "                                gee_functions.reduce_image_to_superpixel(image.select(['VV']).clip(s1_imagery._ee_sp), polygons_fromseg))\n"
      ],
      "execution_count": 15,
      "outputs": []
    },
    {
      "cell_type": "code",
      "metadata": {
        "id": "EJbn8W5J2lyZ"
      },
      "source": [
        "abundance_perc = s1datasuperpixel.reduce(ee.Reducer.percentile([5,10, 25, 50, 75 , 90, 95]))\n"
      ],
      "execution_count": 16,
      "outputs": []
    },
    {
      "cell_type": "markdown",
      "metadata": {
        "id": "2r4I7__L5Sax"
      },
      "source": [
        "Once the superpixels has been obtained, we are going to summary our s1 collection in percentiles"
      ]
    },
    {
      "cell_type": "code",
      "metadata": {
        "id": "akEs7Khq5Say"
      },
      "source": [
        "abundance_perc = s1datasuperpixel.reduce(ee.Reducer.percentile([5,10, 25, 50, 75 , 90, 95]))\n",
        "abundance_perc_orig = s1_imagery.image_collection.reduce(ee.Reducer.percentile([5,10, 25, 50, 75 , 90, 95]))\n",
        "\n"
      ],
      "execution_count": 17,
      "outputs": []
    },
    {
      "cell_type": "markdown",
      "metadata": {
        "id": "WA1WND6q5Say"
      },
      "source": [
        "Finally we compare both results"
      ]
    },
    {
      "cell_type": "code",
      "metadata": {
        "id": "jq4Ogd5C5Saz"
      },
      "source": [
        "import folium \n",
        "display = ee.Image(0).updateMask(0).paint(polygons_fromseg, '000000', 3);\n",
        "\n",
        "centergeometry = gis_functions.geometry_center(s1_imagery.geometry)\n",
        "\n",
        "Map = folium.Map(location=[centergeometry[1],\n",
        "                               centergeometry[0]], zoom_start=12)\n",
        "\n",
        "Map.addLayer(ee.Image(abundance_perc_orig).select(['VV_p5', 'VV_p50', 'VV_p95']).clip(s1_imagery._ee_sp), {'gamma': 1.3, 'min':-25, 'max':0}, 'orig');\n",
        "Map.addLayer(ee.Image(abundance_perc).select(['first_p5', 'first_p50', 'first_p95']), {'gamma': 1.3, 'min':-25, 'max':0}, 'radar superpixel');\n",
        "Map.addLayer(display, {}, 'vectors');\n",
        "\n",
        "\n",
        "Map.setControlVisibility(layerControl=True, fullscreenControl=True, latLngPopup=True)\n",
        "\n",
        "Map"
      ],
      "execution_count": null,
      "outputs": []
    },
    {
      "cell_type": "code",
      "metadata": {
        "id": "QBB0tcPwT9K8"
      },
      "source": [
        "## download radar images"
      ],
      "execution_count": null,
      "outputs": []
    },
    {
      "cell_type": "code",
      "metadata": {
        "id": "nB01xpR3T-Up",
        "colab": {
          "base_uri": "https://localhost:8080/"
        },
        "outputId": "9f18a002-f0a9-437d-fe1a-0c7e450c72de"
      },
      "source": [
        "from google.colab import drive\n",
        "drive.mount('/content/drive')"
      ],
      "execution_count": null,
      "outputs": [
        {
          "output_type": "stream",
          "text": [
            "Mounted at /content/drive\n"
          ],
          "name": "stdout"
        }
      ]
    },
    {
      "cell_type": "code",
      "metadata": {
        "id": "t0n3Lxz7We93"
      },
      "source": [
        "### Download images\n",
        "import time\n",
        "image_todownload = ee.Image(abundance_perc)\n",
        "band_names = ee.Image(abundance_perc).bandNames().getInfo()\n",
        "task = ee.batch.Export.image.toDrive(**{\n",
        "                'image': ee.Image(image_todownload),\n",
        "                'description': \"s1_percentiles_superpixel\",\n",
        "                'folder': '/content/drive/MyDrive/satellite_images',\n",
        "                'scale': 10,\n",
        "                'region': se2_toa._ee_sp['coordinates']\n",
        "            })\n",
        "\n",
        "task.start()\n",
        "while task.active():\n",
        "    print('Polling for task (id: {}).'.format(\"radar_percentiles_superpixel\"))\n",
        "    time.sleep(20)"
      ],
      "execution_count": null,
      "outputs": []
    },
    {
      "cell_type": "code",
      "metadata": {
        "id": "bX4CmzehWhv0"
      },
      "source": [
        "### S2 Metrics\n",
        "maxvalues = imgcollection.select('ndvi').max()\n",
        "minvalues = imgcollection.select('ndvi').min()\n",
        "medianvaluesrgb = imgcollection.select(['B4','B3','B2']).median()\n",
        "stdvalues = imgcollection.select('ndvi').reduce(ee.Reducer.stdDev())\n",
        "medianvalues = medianvalues.addBands(maxvalues).addBands(minvalues).addBands(stdvalues)\n",
        "\n"
      ],
      "execution_count": null,
      "outputs": []
    },
    {
      "cell_type": "code",
      "metadata": {
        "colab": {
          "base_uri": "https://localhost:8080/"
        },
        "id": "Aby6OVSE9jBZ",
        "outputId": "c77ae98c-cbcf-4a82-97ff-8ab77547b74b"
      },
      "source": [
        "### spliting the geometry into tiles for processing huge areas\n",
        "\n",
        "stateArea = se2_toa._ee_sp.area()\n",
        "stateAreaSqKm = ee.Number(stateArea).divide(1e6).round()\n",
        "print(stateAreaSqKm.getInfo())\n",
        "\n",
        "stateArea = s1_imagery._ee_sp.area()\n",
        "stateAreaSqKm = ee.Number(stateArea).divide(1e6).round()\n",
        "print(stateAreaSqKm.getInfo())"
      ],
      "execution_count": null,
      "outputs": [
        {
          "output_type": "stream",
          "text": [
            "252\n",
            "252\n"
          ],
          "name": "stdout"
        }
      ]
    },
    {
      "cell_type": "markdown",
      "metadata": {
        "id": "mdi5zVjWExis"
      },
      "source": [
        "### Image segmentation for multiple tiles"
      ]
    },
    {
      "cell_type": "code",
      "metadata": {
        "colab": {
          "base_uri": "https://localhost:8080/"
        },
        "id": "GxMPV8tiDBV_",
        "outputId": "f2adb172-6123-4ac9-a400-98b275b8181d"
      },
      "source": [
        "###\n",
        "\n",
        "se2_toa = gee_satellite_data.get_gee_data(\"2017-02-01\",\n",
        "                                            \"2017-08-30\", \n",
        "                                            \"data/tol_south.shp\", \n",
        "                                            \"sentinel2_toa\",\n",
        "                                         cloud_percentage= 80)\n",
        "se2_toa.add_vi_layer(\"ndvi\")\n",
        "\n",
        "\n",
        "cover_percentage = 81\n",
        "\n",
        "## filter collection by cover percentage\n",
        "imgcollection = gee_functions.filtering_bycoverpercentage(se2_toa, cover_percentage)\n",
        "imgcollection = imgcollection.map(lambda img:\n",
        "                                  img.unmask(0).clip(se2_toa._ee_sp))\n"
      ],
      "execution_count": null,
      "outputs": [
        {
          "output_type": "stream",
          "text": [
            "total images: 19 \n",
            "total images after cover filter: 9\n"
          ],
          "name": "stdout"
        }
      ]
    },
    {
      "cell_type": "code",
      "metadata": {
        "colab": {
          "base_uri": "https://localhost:8080/"
        },
        "id": "qMbAqVu0iUCQ",
        "outputId": "ae4a88ec-4cb8-4022-eece-a41f2370eab0"
      },
      "source": [
        "s1_imagery = gee_satellite_data.get_gee_data(\"2017-02-01\",\n",
        "                                            \"2017-08-31\", \n",
        "                                            \"data/tol_south.shp\", \n",
        "                                            \"sentinel1\", bands = ['VV'])\n",
        "\n",
        "\n",
        "s1_imagery.reduce_collection_by_days(10)\n",
        "cover_percentage = 90\n",
        "\n",
        "## filter collection by cover percentage\n",
        "imgcollection = gee_functions.filtering_bycoverpercentage(s1_imagery, cover_percentage)\n"
      ],
      "execution_count": null,
      "outputs": [
        {
          "output_type": "stream",
          "text": [
            "total images: 19 \n",
            "total images after cover filter: 17\n"
          ],
          "name": "stdout"
        }
      ]
    },
    {
      "cell_type": "code",
      "metadata": {
        "id": "8dLVsa69zkXI",
        "colab": {
          "base_uri": "https://localhost:8080/",
          "height": 831
        },
        "outputId": "a371b35e-a52d-4cbe-8cb7-c7dc671c421c"
      },
      "source": [
        "import folium\n",
        "perc_orig = imgcollection.reduce(ee.Reducer.percentile([5,10, 25, 50, 75 , 90, 95]))\n",
        "\n",
        "centergeometry = gis_functions.geometry_center(s1_imagery.geometry)\n",
        "\n",
        "Map = folium.Map(location=[centergeometry[1],\n",
        "                               centergeometry[0]], zoom_start=12)\n",
        "\n",
        "Map.addLayer(ee.Image(perc_orig).select(['VV_p5', 'VV_p50', 'VV_p95']).clip(s1_imagery._ee_sp), {'gamma': 1.3, 'min':-25, 'max':0}, 'orig');\n",
        "Map.addLayer(ee.Image(perc_orig).select(['VV_p25', 'VV_p50', 'VV_p75']).clip(s1_imagery._ee_sp), {'gamma': 1.3, 'min':-25, 'max':0}, 'orig 25');\n",
        "\n",
        "collectionsize = imgcollection.size().getInfo()\n",
        "for i in range(collectionsize):\n",
        "  imagetoplot = imgcollection.toList(imgcollection.size()).get(i)\n",
        "  Map.addLayer(ee.Image(imagetoplot).select(['VV']).clip(s1_imagery._ee_sp), {'gamma': 1.3, 'min':-25, 'max':0}, 'orig {}'.format(i));\n",
        "\n",
        "Map.setControlVisibility(layerControl=True, fullscreenControl=True, latLngPopup=True)\n",
        "\n",
        "Map"
      ],
      "execution_count": null,
      "outputs": [
        {
          "output_type": "execute_result",
          "data": {
            "text/html": [
              "<div style=\"width:100%;\"><div style=\"position:relative;width:100%;height:0;padding-bottom:60%;\"><span style=\"color:#565656\">Make this Notebook Trusted to load map: File -> Trust Notebook</span><iframe src=\"about:blank\" style=\"position:absolute;width:100%;height:100%;left:0;top:0;border:none !important;\" data-html=%3C%21DOCTYPE%20html%3E%0A%3Chead%3E%20%20%20%20%0A%20%20%20%20%3Cmeta%20http-equiv%3D%22content-type%22%20content%3D%22text/html%3B%20charset%3DUTF-8%22%20/%3E%0A%20%20%20%20%3Cscript%3EL_PREFER_CANVAS%3Dfalse%3B%20L_NO_TOUCH%3Dfalse%3B%20L_DISABLE_3D%3Dfalse%3B%3C/script%3E%0A%20%20%20%20%3Cscript%20src%3D%22https%3A//cdn.jsdelivr.net/npm/leaflet%401.4.0/dist/leaflet.js%22%3E%3C/script%3E%0A%20%20%20%20%3Cscript%20src%3D%22https%3A//code.jquery.com/jquery-1.12.4.min.js%22%3E%3C/script%3E%0A%20%20%20%20%3Cscript%20src%3D%22https%3A//maxcdn.bootstrapcdn.com/bootstrap/3.2.0/js/bootstrap.min.js%22%3E%3C/script%3E%0A%20%20%20%20%3Cscript%20src%3D%22https%3A//cdnjs.cloudflare.com/ajax/libs/Leaflet.awesome-markers/2.0.2/leaflet.awesome-markers.js%22%3E%3C/script%3E%0A%20%20%20%20%3Clink%20rel%3D%22stylesheet%22%20href%3D%22https%3A//cdn.jsdelivr.net/npm/leaflet%401.4.0/dist/leaflet.css%22/%3E%0A%20%20%20%20%3Clink%20rel%3D%22stylesheet%22%20href%3D%22https%3A//maxcdn.bootstrapcdn.com/bootstrap/3.2.0/css/bootstrap.min.css%22/%3E%0A%20%20%20%20%3Clink%20rel%3D%22stylesheet%22%20href%3D%22https%3A//maxcdn.bootstrapcdn.com/bootstrap/3.2.0/css/bootstrap-theme.min.css%22/%3E%0A%20%20%20%20%3Clink%20rel%3D%22stylesheet%22%20href%3D%22https%3A//maxcdn.bootstrapcdn.com/font-awesome/4.6.3/css/font-awesome.min.css%22/%3E%0A%20%20%20%20%3Clink%20rel%3D%22stylesheet%22%20href%3D%22https%3A//cdnjs.cloudflare.com/ajax/libs/Leaflet.awesome-markers/2.0.2/leaflet.awesome-markers.css%22/%3E%0A%20%20%20%20%3Clink%20rel%3D%22stylesheet%22%20href%3D%22https%3A//rawcdn.githack.com/python-visualization/folium/master/folium/templates/leaflet.awesome.rotate.css%22/%3E%0A%20%20%20%20%3Cstyle%3Ehtml%2C%20body%20%7Bwidth%3A%20100%25%3Bheight%3A%20100%25%3Bmargin%3A%200%3Bpadding%3A%200%3B%7D%3C/style%3E%0A%20%20%20%20%3Cstyle%3E%23map%20%7Bposition%3Aabsolute%3Btop%3A0%3Bbottom%3A0%3Bright%3A0%3Bleft%3A0%3B%7D%3C/style%3E%0A%20%20%20%20%0A%20%20%20%20%3Cmeta%20name%3D%22viewport%22%20content%3D%22width%3Ddevice-width%2C%0A%20%20%20%20%20%20%20%20initial-scale%3D1.0%2C%20maximum-scale%3D1.0%2C%20user-scalable%3Dno%22%20/%3E%0A%20%20%20%20%3Cstyle%3E%23map_e12fcdc973e2490a8dfc253cfed5f695%20%7B%0A%20%20%20%20%20%20%20%20position%3A%20relative%3B%0A%20%20%20%20%20%20%20%20width%3A%20100.0%25%3B%0A%20%20%20%20%20%20%20%20height%3A%20100.0%25%3B%0A%20%20%20%20%20%20%20%20left%3A%200.0%25%3B%0A%20%20%20%20%20%20%20%20top%3A%200.0%25%3B%0A%20%20%20%20%20%20%20%20%7D%0A%20%20%20%20%3C/style%3E%0A%20%20%20%20%3Cscript%20src%3D%22https%3A//cdnjs.cloudflare.com/ajax/libs/leaflet.fullscreen/1.4.2/Control.FullScreen.min.js%22%3E%3C/script%3E%0A%20%20%20%20%3Clink%20rel%3D%22stylesheet%22%20href%3D%22https%3A//cdnjs.cloudflare.com/ajax/libs/leaflet.fullscreen/1.4.2/Control.FullScreen.min.css%22/%3E%0A%3C/head%3E%0A%3Cbody%3E%20%20%20%20%0A%20%20%20%20%0A%20%20%20%20%3Cdiv%20class%3D%22folium-map%22%20id%3D%22map_e12fcdc973e2490a8dfc253cfed5f695%22%20%3E%3C/div%3E%0A%3C/body%3E%0A%3Cscript%3E%20%20%20%20%0A%20%20%20%20%0A%20%20%20%20%0A%20%20%20%20%20%20%20%20var%20bounds%20%3D%20null%3B%0A%20%20%20%20%0A%0A%20%20%20%20var%20map_e12fcdc973e2490a8dfc253cfed5f695%20%3D%20L.map%28%0A%20%20%20%20%20%20%20%20%27map_e12fcdc973e2490a8dfc253cfed5f695%27%2C%20%7B%0A%20%20%20%20%20%20%20%20center%3A%20%5B4.044916876073087%2C%20-75.05519360767866%5D%2C%0A%20%20%20%20%20%20%20%20zoom%3A%2012%2C%0A%20%20%20%20%20%20%20%20maxBounds%3A%20bounds%2C%0A%20%20%20%20%20%20%20%20layers%3A%20%5B%5D%2C%0A%20%20%20%20%20%20%20%20worldCopyJump%3A%20false%2C%0A%20%20%20%20%20%20%20%20crs%3A%20L.CRS.EPSG3857%2C%0A%20%20%20%20%20%20%20%20zoomControl%3A%20true%2C%0A%20%20%20%20%20%20%20%20%7D%29%3B%0A%0A%0A%20%20%20%20%0A%20%20%20%20var%20tile_layer_08b7dcb5388a4cf4816bbac9105fa878%20%3D%20L.tileLayer%28%0A%20%20%20%20%20%20%20%20%27https%3A//%7Bs%7D.tile.openstreetmap.org/%7Bz%7D/%7Bx%7D/%7By%7D.png%27%2C%0A%20%20%20%20%20%20%20%20%7B%0A%20%20%20%20%20%20%20%20%22attribution%22%3A%20null%2C%0A%20%20%20%20%20%20%20%20%22detectRetina%22%3A%20false%2C%0A%20%20%20%20%20%20%20%20%22maxNativeZoom%22%3A%2018%2C%0A%20%20%20%20%20%20%20%20%22maxZoom%22%3A%2018%2C%0A%20%20%20%20%20%20%20%20%22minZoom%22%3A%200%2C%0A%20%20%20%20%20%20%20%20%22noWrap%22%3A%20false%2C%0A%20%20%20%20%20%20%20%20%22opacity%22%3A%201%2C%0A%20%20%20%20%20%20%20%20%22subdomains%22%3A%20%22abc%22%2C%0A%20%20%20%20%20%20%20%20%22tms%22%3A%20false%0A%7D%29.addTo%28map_e12fcdc973e2490a8dfc253cfed5f695%29%3B%0A%20%20%20%20var%20tile_layer_eb240e374d8f4959ac7cf38e2f77b129%20%3D%20L.tileLayer%28%0A%20%20%20%20%20%20%20%20%27https%3A//earthengine.googleapis.com/v1alpha/projects/earthengine-legacy/maps/8bfe477e4fef9990af3f9281542bb315-27db5c820b9a86eda3a402af339a4446/tiles/%7Bz%7D/%7Bx%7D/%7By%7D%27%2C%0A%20%20%20%20%20%20%20%20%7B%0A%20%20%20%20%20%20%20%20%22attribution%22%3A%20%22Google%20Earth%20Engine%22%2C%0A%20%20%20%20%20%20%20%20%22detectRetina%22%3A%20false%2C%0A%20%20%20%20%20%20%20%20%22maxNativeZoom%22%3A%2018%2C%0A%20%20%20%20%20%20%20%20%22maxZoom%22%3A%2018%2C%0A%20%20%20%20%20%20%20%20%22minZoom%22%3A%200%2C%0A%20%20%20%20%20%20%20%20%22noWrap%22%3A%20false%2C%0A%20%20%20%20%20%20%20%20%22opacity%22%3A%201%2C%0A%20%20%20%20%20%20%20%20%22subdomains%22%3A%20%22abc%22%2C%0A%20%20%20%20%20%20%20%20%22tms%22%3A%20false%0A%7D%29.addTo%28map_e12fcdc973e2490a8dfc253cfed5f695%29%3B%0A%20%20%20%20var%20tile_layer_65e1ac08bfa942bda93154663b0f98de%20%3D%20L.tileLayer%28%0A%20%20%20%20%20%20%20%20%27https%3A//earthengine.googleapis.com/v1alpha/projects/earthengine-legacy/maps/b0fa98713fc083494abb93cfdbe4f0ef-02eee856e9cd53786db619b21a134050/tiles/%7Bz%7D/%7Bx%7D/%7By%7D%27%2C%0A%20%20%20%20%20%20%20%20%7B%0A%20%20%20%20%20%20%20%20%22attribution%22%3A%20%22Google%20Earth%20Engine%22%2C%0A%20%20%20%20%20%20%20%20%22detectRetina%22%3A%20false%2C%0A%20%20%20%20%20%20%20%20%22maxNativeZoom%22%3A%2018%2C%0A%20%20%20%20%20%20%20%20%22maxZoom%22%3A%2018%2C%0A%20%20%20%20%20%20%20%20%22minZoom%22%3A%200%2C%0A%20%20%20%20%20%20%20%20%22noWrap%22%3A%20false%2C%0A%20%20%20%20%20%20%20%20%22opacity%22%3A%201%2C%0A%20%20%20%20%20%20%20%20%22subdomains%22%3A%20%22abc%22%2C%0A%20%20%20%20%20%20%20%20%22tms%22%3A%20false%0A%7D%29.addTo%28map_e12fcdc973e2490a8dfc253cfed5f695%29%3B%0A%20%20%20%20var%20tile_layer_d489709769e7445baed4040d5c78c9c4%20%3D%20L.tileLayer%28%0A%20%20%20%20%20%20%20%20%27https%3A//earthengine.googleapis.com/v1alpha/projects/earthengine-legacy/maps/05724cd0c85e95ecd319065a7b30bf97-f29c980b6896041ab1cb00d7e4bd065c/tiles/%7Bz%7D/%7Bx%7D/%7By%7D%27%2C%0A%20%20%20%20%20%20%20%20%7B%0A%20%20%20%20%20%20%20%20%22attribution%22%3A%20%22Google%20Earth%20Engine%22%2C%0A%20%20%20%20%20%20%20%20%22detectRetina%22%3A%20false%2C%0A%20%20%20%20%20%20%20%20%22maxNativeZoom%22%3A%2018%2C%0A%20%20%20%20%20%20%20%20%22maxZoom%22%3A%2018%2C%0A%20%20%20%20%20%20%20%20%22minZoom%22%3A%200%2C%0A%20%20%20%20%20%20%20%20%22noWrap%22%3A%20false%2C%0A%20%20%20%20%20%20%20%20%22opacity%22%3A%201%2C%0A%20%20%20%20%20%20%20%20%22subdomains%22%3A%20%22abc%22%2C%0A%20%20%20%20%20%20%20%20%22tms%22%3A%20false%0A%7D%29.addTo%28map_e12fcdc973e2490a8dfc253cfed5f695%29%3B%0A%20%20%20%20var%20tile_layer_ba5df0379d484b0c87d46388906d9413%20%3D%20L.tileLayer%28%0A%20%20%20%20%20%20%20%20%27https%3A//earthengine.googleapis.com/v1alpha/projects/earthengine-legacy/maps/3248e0186acbb4a2e9ed5d76eb3e26c2-eb162cfb2234c833822c26f13a6c9ad5/tiles/%7Bz%7D/%7Bx%7D/%7By%7D%27%2C%0A%20%20%20%20%20%20%20%20%7B%0A%20%20%20%20%20%20%20%20%22attribution%22%3A%20%22Google%20Earth%20Engine%22%2C%0A%20%20%20%20%20%20%20%20%22detectRetina%22%3A%20false%2C%0A%20%20%20%20%20%20%20%20%22maxNativeZoom%22%3A%2018%2C%0A%20%20%20%20%20%20%20%20%22maxZoom%22%3A%2018%2C%0A%20%20%20%20%20%20%20%20%22minZoom%22%3A%200%2C%0A%20%20%20%20%20%20%20%20%22noWrap%22%3A%20false%2C%0A%20%20%20%20%20%20%20%20%22opacity%22%3A%201%2C%0A%20%20%20%20%20%20%20%20%22subdomains%22%3A%20%22abc%22%2C%0A%20%20%20%20%20%20%20%20%22tms%22%3A%20false%0A%7D%29.addTo%28map_e12fcdc973e2490a8dfc253cfed5f695%29%3B%0A%20%20%20%20var%20tile_layer_1a79f88a0fda49daaf2384318b2e1c40%20%3D%20L.tileLayer%28%0A%20%20%20%20%20%20%20%20%27https%3A//earthengine.googleapis.com/v1alpha/projects/earthengine-legacy/maps/4394de20a0d23b1a6bd483202ec12bfc-0fac151b38a8d04ab402751d67cb7a47/tiles/%7Bz%7D/%7Bx%7D/%7By%7D%27%2C%0A%20%20%20%20%20%20%20%20%7B%0A%20%20%20%20%20%20%20%20%22attribution%22%3A%20%22Google%20Earth%20Engine%22%2C%0A%20%20%20%20%20%20%20%20%22detectRetina%22%3A%20false%2C%0A%20%20%20%20%20%20%20%20%22maxNativeZoom%22%3A%2018%2C%0A%20%20%20%20%20%20%20%20%22maxZoom%22%3A%2018%2C%0A%20%20%20%20%20%20%20%20%22minZoom%22%3A%200%2C%0A%20%20%20%20%20%20%20%20%22noWrap%22%3A%20false%2C%0A%20%20%20%20%20%20%20%20%22opacity%22%3A%201%2C%0A%20%20%20%20%20%20%20%20%22subdomains%22%3A%20%22abc%22%2C%0A%20%20%20%20%20%20%20%20%22tms%22%3A%20false%0A%7D%29.addTo%28map_e12fcdc973e2490a8dfc253cfed5f695%29%3B%0A%20%20%20%20var%20tile_layer_07932b7c2d934e5da9c721d57e59fa67%20%3D%20L.tileLayer%28%0A%20%20%20%20%20%20%20%20%27https%3A//earthengine.googleapis.com/v1alpha/projects/earthengine-legacy/maps/87037995685603d3e47566b81573ca26-b64e4f0f8bec0255892f793ff78affd0/tiles/%7Bz%7D/%7Bx%7D/%7By%7D%27%2C%0A%20%20%20%20%20%20%20%20%7B%0A%20%20%20%20%20%20%20%20%22attribution%22%3A%20%22Google%20Earth%20Engine%22%2C%0A%20%20%20%20%20%20%20%20%22detectRetina%22%3A%20false%2C%0A%20%20%20%20%20%20%20%20%22maxNativeZoom%22%3A%2018%2C%0A%20%20%20%20%20%20%20%20%22maxZoom%22%3A%2018%2C%0A%20%20%20%20%20%20%20%20%22minZoom%22%3A%200%2C%0A%20%20%20%20%20%20%20%20%22noWrap%22%3A%20false%2C%0A%20%20%20%20%20%20%20%20%22opacity%22%3A%201%2C%0A%20%20%20%20%20%20%20%20%22subdomains%22%3A%20%22abc%22%2C%0A%20%20%20%20%20%20%20%20%22tms%22%3A%20false%0A%7D%29.addTo%28map_e12fcdc973e2490a8dfc253cfed5f695%29%3B%0A%20%20%20%20var%20tile_layer_91d6cfb9331447d4af54b64d1c5e1104%20%3D%20L.tileLayer%28%0A%20%20%20%20%20%20%20%20%27https%3A//earthengine.googleapis.com/v1alpha/projects/earthengine-legacy/maps/86335c063469616c6b3b64677d463813-039ea01375862358598c91b1faaeb6c1/tiles/%7Bz%7D/%7Bx%7D/%7By%7D%27%2C%0A%20%20%20%20%20%20%20%20%7B%0A%20%20%20%20%20%20%20%20%22attribution%22%3A%20%22Google%20Earth%20Engine%22%2C%0A%20%20%20%20%20%20%20%20%22detectRetina%22%3A%20false%2C%0A%20%20%20%20%20%20%20%20%22maxNativeZoom%22%3A%2018%2C%0A%20%20%20%20%20%20%20%20%22maxZoom%22%3A%2018%2C%0A%20%20%20%20%20%20%20%20%22minZoom%22%3A%200%2C%0A%20%20%20%20%20%20%20%20%22noWrap%22%3A%20false%2C%0A%20%20%20%20%20%20%20%20%22opacity%22%3A%201%2C%0A%20%20%20%20%20%20%20%20%22subdomains%22%3A%20%22abc%22%2C%0A%20%20%20%20%20%20%20%20%22tms%22%3A%20false%0A%7D%29.addTo%28map_e12fcdc973e2490a8dfc253cfed5f695%29%3B%0A%20%20%20%20var%20tile_layer_7f0e49f457fd462aa8d12308b1cd567c%20%3D%20L.tileLayer%28%0A%20%20%20%20%20%20%20%20%27https%3A//earthengine.googleapis.com/v1alpha/projects/earthengine-legacy/maps/ba78a93f451085eed0d64562cc2728a6-b2a0363ad9cf2b8e25e38b5927892c8e/tiles/%7Bz%7D/%7Bx%7D/%7By%7D%27%2C%0A%20%20%20%20%20%20%20%20%7B%0A%20%20%20%20%20%20%20%20%22attribution%22%3A%20%22Google%20Earth%20Engine%22%2C%0A%20%20%20%20%20%20%20%20%22detectRetina%22%3A%20false%2C%0A%20%20%20%20%20%20%20%20%22maxNativeZoom%22%3A%2018%2C%0A%20%20%20%20%20%20%20%20%22maxZoom%22%3A%2018%2C%0A%20%20%20%20%20%20%20%20%22minZoom%22%3A%200%2C%0A%20%20%20%20%20%20%20%20%22noWrap%22%3A%20false%2C%0A%20%20%20%20%20%20%20%20%22opacity%22%3A%201%2C%0A%20%20%20%20%20%20%20%20%22subdomains%22%3A%20%22abc%22%2C%0A%20%20%20%20%20%20%20%20%22tms%22%3A%20false%0A%7D%29.addTo%28map_e12fcdc973e2490a8dfc253cfed5f695%29%3B%0A%20%20%20%20var%20tile_layer_557c4dfdeac84bb2907266b4c3b5aed8%20%3D%20L.tileLayer%28%0A%20%20%20%20%20%20%20%20%27https%3A//earthengine.googleapis.com/v1alpha/projects/earthengine-legacy/maps/12c5d948f2b7f38fa282fe47acf8f7d7-847312e7116a46982b1453bbb44ab2fb/tiles/%7Bz%7D/%7Bx%7D/%7By%7D%27%2C%0A%20%20%20%20%20%20%20%20%7B%0A%20%20%20%20%20%20%20%20%22attribution%22%3A%20%22Google%20Earth%20Engine%22%2C%0A%20%20%20%20%20%20%20%20%22detectRetina%22%3A%20false%2C%0A%20%20%20%20%20%20%20%20%22maxNativeZoom%22%3A%2018%2C%0A%20%20%20%20%20%20%20%20%22maxZoom%22%3A%2018%2C%0A%20%20%20%20%20%20%20%20%22minZoom%22%3A%200%2C%0A%20%20%20%20%20%20%20%20%22noWrap%22%3A%20false%2C%0A%20%20%20%20%20%20%20%20%22opacity%22%3A%201%2C%0A%20%20%20%20%20%20%20%20%22subdomains%22%3A%20%22abc%22%2C%0A%20%20%20%20%20%20%20%20%22tms%22%3A%20false%0A%7D%29.addTo%28map_e12fcdc973e2490a8dfc253cfed5f695%29%3B%0A%20%20%20%20var%20tile_layer_ede608f8fd854bf480d4e8b8ca6646ed%20%3D%20L.tileLayer%28%0A%20%20%20%20%20%20%20%20%27https%3A//earthengine.googleapis.com/v1alpha/projects/earthengine-legacy/maps/ff9da077489b90f86888f3f76687121b-61bdfe13cc1838b693697ff0eb430d48/tiles/%7Bz%7D/%7Bx%7D/%7By%7D%27%2C%0A%20%20%20%20%20%20%20%20%7B%0A%20%20%20%20%20%20%20%20%22attribution%22%3A%20%22Google%20Earth%20Engine%22%2C%0A%20%20%20%20%20%20%20%20%22detectRetina%22%3A%20false%2C%0A%20%20%20%20%20%20%20%20%22maxNativeZoom%22%3A%2018%2C%0A%20%20%20%20%20%20%20%20%22maxZoom%22%3A%2018%2C%0A%20%20%20%20%20%20%20%20%22minZoom%22%3A%200%2C%0A%20%20%20%20%20%20%20%20%22noWrap%22%3A%20false%2C%0A%20%20%20%20%20%20%20%20%22opacity%22%3A%201%2C%0A%20%20%20%20%20%20%20%20%22subdomains%22%3A%20%22abc%22%2C%0A%20%20%20%20%20%20%20%20%22tms%22%3A%20false%0A%7D%29.addTo%28map_e12fcdc973e2490a8dfc253cfed5f695%29%3B%0A%20%20%20%20var%20tile_layer_0add47c4403e4f80bfb1dc1c2b606ce5%20%3D%20L.tileLayer%28%0A%20%20%20%20%20%20%20%20%27https%3A//earthengine.googleapis.com/v1alpha/projects/earthengine-legacy/maps/33f6b8f9f30cec8d4177f2a8d164aedc-354c0110328bccd00833df662ead981e/tiles/%7Bz%7D/%7Bx%7D/%7By%7D%27%2C%0A%20%20%20%20%20%20%20%20%7B%0A%20%20%20%20%20%20%20%20%22attribution%22%3A%20%22Google%20Earth%20Engine%22%2C%0A%20%20%20%20%20%20%20%20%22detectRetina%22%3A%20false%2C%0A%20%20%20%20%20%20%20%20%22maxNativeZoom%22%3A%2018%2C%0A%20%20%20%20%20%20%20%20%22maxZoom%22%3A%2018%2C%0A%20%20%20%20%20%20%20%20%22minZoom%22%3A%200%2C%0A%20%20%20%20%20%20%20%20%22noWrap%22%3A%20false%2C%0A%20%20%20%20%20%20%20%20%22opacity%22%3A%201%2C%0A%20%20%20%20%20%20%20%20%22subdomains%22%3A%20%22abc%22%2C%0A%20%20%20%20%20%20%20%20%22tms%22%3A%20false%0A%7D%29.addTo%28map_e12fcdc973e2490a8dfc253cfed5f695%29%3B%0A%20%20%20%20var%20tile_layer_595f7f5819384574b062a3c288321788%20%3D%20L.tileLayer%28%0A%20%20%20%20%20%20%20%20%27https%3A//earthengine.googleapis.com/v1alpha/projects/earthengine-legacy/maps/2924088d6ee64abf8128fd7897f55d7c-240fb8030547feea24c673bf5f979649/tiles/%7Bz%7D/%7Bx%7D/%7By%7D%27%2C%0A%20%20%20%20%20%20%20%20%7B%0A%20%20%20%20%20%20%20%20%22attribution%22%3A%20%22Google%20Earth%20Engine%22%2C%0A%20%20%20%20%20%20%20%20%22detectRetina%22%3A%20false%2C%0A%20%20%20%20%20%20%20%20%22maxNativeZoom%22%3A%2018%2C%0A%20%20%20%20%20%20%20%20%22maxZoom%22%3A%2018%2C%0A%20%20%20%20%20%20%20%20%22minZoom%22%3A%200%2C%0A%20%20%20%20%20%20%20%20%22noWrap%22%3A%20false%2C%0A%20%20%20%20%20%20%20%20%22opacity%22%3A%201%2C%0A%20%20%20%20%20%20%20%20%22subdomains%22%3A%20%22abc%22%2C%0A%20%20%20%20%20%20%20%20%22tms%22%3A%20false%0A%7D%29.addTo%28map_e12fcdc973e2490a8dfc253cfed5f695%29%3B%0A%20%20%20%20var%20tile_layer_2df0905e044f4e49b99edaa1e7cc9ba7%20%3D%20L.tileLayer%28%0A%20%20%20%20%20%20%20%20%27https%3A//earthengine.googleapis.com/v1alpha/projects/earthengine-legacy/maps/59b909ff8dfe9a080aaec785145c019f-b4ed4fc44b384b63cbc383c82a77bc5f/tiles/%7Bz%7D/%7Bx%7D/%7By%7D%27%2C%0A%20%20%20%20%20%20%20%20%7B%0A%20%20%20%20%20%20%20%20%22attribution%22%3A%20%22Google%20Earth%20Engine%22%2C%0A%20%20%20%20%20%20%20%20%22detectRetina%22%3A%20false%2C%0A%20%20%20%20%20%20%20%20%22maxNativeZoom%22%3A%2018%2C%0A%20%20%20%20%20%20%20%20%22maxZoom%22%3A%2018%2C%0A%20%20%20%20%20%20%20%20%22minZoom%22%3A%200%2C%0A%20%20%20%20%20%20%20%20%22noWrap%22%3A%20false%2C%0A%20%20%20%20%20%20%20%20%22opacity%22%3A%201%2C%0A%20%20%20%20%20%20%20%20%22subdomains%22%3A%20%22abc%22%2C%0A%20%20%20%20%20%20%20%20%22tms%22%3A%20false%0A%7D%29.addTo%28map_e12fcdc973e2490a8dfc253cfed5f695%29%3B%0A%20%20%20%20var%20tile_layer_34e8298990154921830f0ceb034f39e8%20%3D%20L.tileLayer%28%0A%20%20%20%20%20%20%20%20%27https%3A//earthengine.googleapis.com/v1alpha/projects/earthengine-legacy/maps/9346a7707783ac5c83d609f183fac28d-9255526ffc4fd608f2a68a90817748f7/tiles/%7Bz%7D/%7Bx%7D/%7By%7D%27%2C%0A%20%20%20%20%20%20%20%20%7B%0A%20%20%20%20%20%20%20%20%22attribution%22%3A%20%22Google%20Earth%20Engine%22%2C%0A%20%20%20%20%20%20%20%20%22detectRetina%22%3A%20false%2C%0A%20%20%20%20%20%20%20%20%22maxNativeZoom%22%3A%2018%2C%0A%20%20%20%20%20%20%20%20%22maxZoom%22%3A%2018%2C%0A%20%20%20%20%20%20%20%20%22minZoom%22%3A%200%2C%0A%20%20%20%20%20%20%20%20%22noWrap%22%3A%20false%2C%0A%20%20%20%20%20%20%20%20%22opacity%22%3A%201%2C%0A%20%20%20%20%20%20%20%20%22subdomains%22%3A%20%22abc%22%2C%0A%20%20%20%20%20%20%20%20%22tms%22%3A%20false%0A%7D%29.addTo%28map_e12fcdc973e2490a8dfc253cfed5f695%29%3B%0A%20%20%20%20var%20tile_layer_95e96b95c26744e989281c5d967dc464%20%3D%20L.tileLayer%28%0A%20%20%20%20%20%20%20%20%27https%3A//earthengine.googleapis.com/v1alpha/projects/earthengine-legacy/maps/85c296cdd682d7476f41310869513b37-b209ad0877f878309c12ce6a77a201e0/tiles/%7Bz%7D/%7Bx%7D/%7By%7D%27%2C%0A%20%20%20%20%20%20%20%20%7B%0A%20%20%20%20%20%20%20%20%22attribution%22%3A%20%22Google%20Earth%20Engine%22%2C%0A%20%20%20%20%20%20%20%20%22detectRetina%22%3A%20false%2C%0A%20%20%20%20%20%20%20%20%22maxNativeZoom%22%3A%2018%2C%0A%20%20%20%20%20%20%20%20%22maxZoom%22%3A%2018%2C%0A%20%20%20%20%20%20%20%20%22minZoom%22%3A%200%2C%0A%20%20%20%20%20%20%20%20%22noWrap%22%3A%20false%2C%0A%20%20%20%20%20%20%20%20%22opacity%22%3A%201%2C%0A%20%20%20%20%20%20%20%20%22subdomains%22%3A%20%22abc%22%2C%0A%20%20%20%20%20%20%20%20%22tms%22%3A%20false%0A%7D%29.addTo%28map_e12fcdc973e2490a8dfc253cfed5f695%29%3B%0A%20%20%20%20var%20tile_layer_255ee4c2223642c080ea0f65db0d779e%20%3D%20L.tileLayer%28%0A%20%20%20%20%20%20%20%20%27https%3A//earthengine.googleapis.com/v1alpha/projects/earthengine-legacy/maps/c79eabfdb22f9baa13857dc04bc8d02b-79b9056a82e69501cf37d77a75999cff/tiles/%7Bz%7D/%7Bx%7D/%7By%7D%27%2C%0A%20%20%20%20%20%20%20%20%7B%0A%20%20%20%20%20%20%20%20%22attribution%22%3A%20%22Google%20Earth%20Engine%22%2C%0A%20%20%20%20%20%20%20%20%22detectRetina%22%3A%20false%2C%0A%20%20%20%20%20%20%20%20%22maxNativeZoom%22%3A%2018%2C%0A%20%20%20%20%20%20%20%20%22maxZoom%22%3A%2018%2C%0A%20%20%20%20%20%20%20%20%22minZoom%22%3A%200%2C%0A%20%20%20%20%20%20%20%20%22noWrap%22%3A%20false%2C%0A%20%20%20%20%20%20%20%20%22opacity%22%3A%201%2C%0A%20%20%20%20%20%20%20%20%22subdomains%22%3A%20%22abc%22%2C%0A%20%20%20%20%20%20%20%20%22tms%22%3A%20false%0A%7D%29.addTo%28map_e12fcdc973e2490a8dfc253cfed5f695%29%3B%0A%20%20%20%20var%20tile_layer_dd3775fe4147465eb79284283f9a7a6c%20%3D%20L.tileLayer%28%0A%20%20%20%20%20%20%20%20%27https%3A//earthengine.googleapis.com/v1alpha/projects/earthengine-legacy/maps/9c727a0e1223460f6b7cdfdc131f61c0-ad06849e24c578e3873a38ebc490a1c0/tiles/%7Bz%7D/%7Bx%7D/%7By%7D%27%2C%0A%20%20%20%20%20%20%20%20%7B%0A%20%20%20%20%20%20%20%20%22attribution%22%3A%20%22Google%20Earth%20Engine%22%2C%0A%20%20%20%20%20%20%20%20%22detectRetina%22%3A%20false%2C%0A%20%20%20%20%20%20%20%20%22maxNativeZoom%22%3A%2018%2C%0A%20%20%20%20%20%20%20%20%22maxZoom%22%3A%2018%2C%0A%20%20%20%20%20%20%20%20%22minZoom%22%3A%200%2C%0A%20%20%20%20%20%20%20%20%22noWrap%22%3A%20false%2C%0A%20%20%20%20%20%20%20%20%22opacity%22%3A%201%2C%0A%20%20%20%20%20%20%20%20%22subdomains%22%3A%20%22abc%22%2C%0A%20%20%20%20%20%20%20%20%22tms%22%3A%20false%0A%7D%29.addTo%28map_e12fcdc973e2490a8dfc253cfed5f695%29%3B%0A%20%20%20%20var%20tile_layer_103d396e1451452a9104fca0ecbcd77a%20%3D%20L.tileLayer%28%0A%20%20%20%20%20%20%20%20%27https%3A//earthengine.googleapis.com/v1alpha/projects/earthengine-legacy/maps/2fb0c4375dbf611bc755e62fcf3196cd-7625ff34107a507c9e82883919b8671c/tiles/%7Bz%7D/%7Bx%7D/%7By%7D%27%2C%0A%20%20%20%20%20%20%20%20%7B%0A%20%20%20%20%20%20%20%20%22attribution%22%3A%20%22Google%20Earth%20Engine%22%2C%0A%20%20%20%20%20%20%20%20%22detectRetina%22%3A%20false%2C%0A%20%20%20%20%20%20%20%20%22maxNativeZoom%22%3A%2018%2C%0A%20%20%20%20%20%20%20%20%22maxZoom%22%3A%2018%2C%0A%20%20%20%20%20%20%20%20%22minZoom%22%3A%200%2C%0A%20%20%20%20%20%20%20%20%22noWrap%22%3A%20false%2C%0A%20%20%20%20%20%20%20%20%22opacity%22%3A%201%2C%0A%20%20%20%20%20%20%20%20%22subdomains%22%3A%20%22abc%22%2C%0A%20%20%20%20%20%20%20%20%22tms%22%3A%20false%0A%7D%29.addTo%28map_e12fcdc973e2490a8dfc253cfed5f695%29%3B%0A%20%20%20%20var%20tile_layer_80d2be968fd14d2989bcd30f7033c918%20%3D%20L.tileLayer%28%0A%20%20%20%20%20%20%20%20%27https%3A//earthengine.googleapis.com/v1alpha/projects/earthengine-legacy/maps/e0061cb7ce8379099bf6360ac5397fde-4d869ae7d43f288883bf53b03a721497/tiles/%7Bz%7D/%7Bx%7D/%7By%7D%27%2C%0A%20%20%20%20%20%20%20%20%7B%0A%20%20%20%20%20%20%20%20%22attribution%22%3A%20%22Google%20Earth%20Engine%22%2C%0A%20%20%20%20%20%20%20%20%22detectRetina%22%3A%20false%2C%0A%20%20%20%20%20%20%20%20%22maxNativeZoom%22%3A%2018%2C%0A%20%20%20%20%20%20%20%20%22maxZoom%22%3A%2018%2C%0A%20%20%20%20%20%20%20%20%22minZoom%22%3A%200%2C%0A%20%20%20%20%20%20%20%20%22noWrap%22%3A%20false%2C%0A%20%20%20%20%20%20%20%20%22opacity%22%3A%201%2C%0A%20%20%20%20%20%20%20%20%22subdomains%22%3A%20%22abc%22%2C%0A%20%20%20%20%20%20%20%20%22tms%22%3A%20false%0A%7D%29.addTo%28map_e12fcdc973e2490a8dfc253cfed5f695%29%3B%0A%20%20%20%20%0A%20%20%20%20%20%20%20%20%20%20%20%20var%20layer_control_53fc15778151409991ca30d78964f8b0%20%3D%20%7B%0A%20%20%20%20%20%20%20%20%20%20%20%20%20%20%20%20base_layers%20%3A%20%7B%20%22openstreetmap%22%20%3A%20tile_layer_08b7dcb5388a4cf4816bbac9105fa878%2C%20%7D%2C%0A%20%20%20%20%20%20%20%20%20%20%20%20%20%20%20%20overlays%20%3A%20%7B%20%22orig%22%20%3A%20tile_layer_eb240e374d8f4959ac7cf38e2f77b129%2C%22orig%2025%22%20%3A%20tile_layer_65e1ac08bfa942bda93154663b0f98de%2C%22orig%200%22%20%3A%20tile_layer_d489709769e7445baed4040d5c78c9c4%2C%22orig%201%22%20%3A%20tile_layer_ba5df0379d484b0c87d46388906d9413%2C%22orig%202%22%20%3A%20tile_layer_1a79f88a0fda49daaf2384318b2e1c40%2C%22orig%203%22%20%3A%20tile_layer_07932b7c2d934e5da9c721d57e59fa67%2C%22orig%204%22%20%3A%20tile_layer_91d6cfb9331447d4af54b64d1c5e1104%2C%22orig%205%22%20%3A%20tile_layer_7f0e49f457fd462aa8d12308b1cd567c%2C%22orig%206%22%20%3A%20tile_layer_557c4dfdeac84bb2907266b4c3b5aed8%2C%22orig%207%22%20%3A%20tile_layer_ede608f8fd854bf480d4e8b8ca6646ed%2C%22orig%208%22%20%3A%20tile_layer_0add47c4403e4f80bfb1dc1c2b606ce5%2C%22orig%209%22%20%3A%20tile_layer_595f7f5819384574b062a3c288321788%2C%22orig%2010%22%20%3A%20tile_layer_2df0905e044f4e49b99edaa1e7cc9ba7%2C%22orig%2011%22%20%3A%20tile_layer_34e8298990154921830f0ceb034f39e8%2C%22orig%2012%22%20%3A%20tile_layer_95e96b95c26744e989281c5d967dc464%2C%22orig%2013%22%20%3A%20tile_layer_255ee4c2223642c080ea0f65db0d779e%2C%22orig%2014%22%20%3A%20tile_layer_dd3775fe4147465eb79284283f9a7a6c%2C%22orig%2015%22%20%3A%20tile_layer_103d396e1451452a9104fca0ecbcd77a%2C%22orig%2016%22%20%3A%20tile_layer_80d2be968fd14d2989bcd30f7033c918%2C%20%7D%0A%20%20%20%20%20%20%20%20%20%20%20%20%20%20%20%20%7D%3B%0A%20%20%20%20%20%20%20%20%20%20%20%20L.control.layers%28%0A%20%20%20%20%20%20%20%20%20%20%20%20%20%20%20%20layer_control_53fc15778151409991ca30d78964f8b0.base_layers%2C%0A%20%20%20%20%20%20%20%20%20%20%20%20%20%20%20%20layer_control_53fc15778151409991ca30d78964f8b0.overlays%2C%0A%20%20%20%20%20%20%20%20%20%20%20%20%20%20%20%20%7Bposition%3A%20%27topright%27%2C%0A%20%20%20%20%20%20%20%20%20%20%20%20%20%20%20%20%20collapsed%3A%20true%2C%0A%20%20%20%20%20%20%20%20%20%20%20%20%20%20%20%20%20autoZIndex%3A%20true%0A%20%20%20%20%20%20%20%20%20%20%20%20%20%20%20%20%7D%29.addTo%28map_e12fcdc973e2490a8dfc253cfed5f695%29%3B%0A%20%20%20%20%20%20%20%20%20%20%20%20%0A%20%20%20%20%20%20%20%20%0A%20%20%20%20%0A%20%20%20%20%20%20%20%20%20%20%20%20L.control.fullscreen%28%7B%0A%20%20%20%20%20%20%20%20%20%20%20%20%20%20%20%20position%3A%20%27topleft%27%2C%0A%20%20%20%20%20%20%20%20%20%20%20%20%20%20%20%20title%3A%20%27Full%20Screen%27%2C%0A%20%20%20%20%20%20%20%20%20%20%20%20%20%20%20%20titleCancel%3A%20%27Exit%20Full%20Screen%27%2C%0A%20%20%20%20%20%20%20%20%20%20%20%20%20%20%20%20forceSeparateButton%3A%20false%2C%0A%20%20%20%20%20%20%20%20%20%20%20%20%20%20%20%20%7D%29.addTo%28map_e12fcdc973e2490a8dfc253cfed5f695%29%3B%0A%20%20%20%20%20%20%20%20%20%20%20%20map_e12fcdc973e2490a8dfc253cfed5f695.on%28%27enterFullscreen%27%2C%20function%28%29%7B%0A%20%20%20%20%20%20%20%20%20%20%20%20%20%20%20%20console.log%28%27entered%20fullscreen%27%29%3B%0A%20%20%20%20%20%20%20%20%20%20%20%20%7D%29%3B%0A%0A%20%20%20%20%20%20%20%20%0A%20%20%20%20%0A%20%20%20%20%20%20%20%20%20%20%20%20%20%20%20%20var%20lat_lng_popup_fc0b480b138f4d009db5a1a6752df1c8%20%3D%20L.popup%28%29%3B%0A%20%20%20%20%20%20%20%20%20%20%20%20%20%20%20%20function%20latLngPop%28e%29%20%7B%0A%20%20%20%20%20%20%20%20%20%20%20%20%20%20%20%20%20%20%20%20lat_lng_popup_fc0b480b138f4d009db5a1a6752df1c8%0A%20%20%20%20%20%20%20%20%20%20%20%20%20%20%20%20%20%20%20%20%20%20%20%20.setLatLng%28e.latlng%29%0A%20%20%20%20%20%20%20%20%20%20%20%20%20%20%20%20%20%20%20%20%20%20%20%20.setContent%28%22Latitude%3A%20%22%20%2B%20e.latlng.lat.toFixed%284%29%20%2B%0A%20%20%20%20%20%20%20%20%20%20%20%20%20%20%20%20%20%20%20%20%20%20%20%20%20%20%20%20%20%20%20%20%20%20%20%20%22%3Cbr%3ELongitude%3A%20%22%20%2B%20e.latlng.lng.toFixed%284%29%29%0A%20%20%20%20%20%20%20%20%20%20%20%20%20%20%20%20%20%20%20%20%20%20%20%20.openOn%28map_e12fcdc973e2490a8dfc253cfed5f695%29%3B%0A%20%20%20%20%20%20%20%20%20%20%20%20%20%20%20%20%20%20%20%20%7D%0A%20%20%20%20%20%20%20%20%20%20%20%20%20%20%20%20map_e12fcdc973e2490a8dfc253cfed5f695.on%28%27click%27%2C%20latLngPop%29%3B%0A%20%20%20%20%20%20%20%20%20%20%20%20%0A%3C/script%3E onload=\"this.contentDocument.open();this.contentDocument.write(    decodeURIComponent(this.getAttribute('data-html')));this.contentDocument.close();\" allowfullscreen webkitallowfullscreen mozallowfullscreen></iframe></div></div>"
            ],
            "text/plain": [
              "<folium.folium.Map at 0x7fd4b6562a50>"
            ]
          },
          "metadata": {
            "tags": []
          },
          "execution_count": 20
        }
      ]
    },
    {
      "cell_type": "code",
      "metadata": {
        "colab": {
          "base_uri": "https://localhost:8080/",
          "height": 831
        },
        "id": "AGgYESUGU3lZ",
        "outputId": "e108214f-198c-40e5-eaa8-fd3d02676fde"
      },
      "source": [
        "#Get tiles\n",
        "\n",
        "num_cells = 4\n",
        "\n",
        "grid_geometries = gis_functions.split_into_tiles(se2_toa._ee_sp['coordinates'][0], num_cells)\n",
        "eegrid_geometries = [ee.Feature(ee.Geometry.Rectangle(\n",
        "    grid_geometries[i][0], \n",
        "    grid_geometries[i][1], \n",
        "    grid_geometries[i][2], grid_geometries[i][3]), \n",
        "                              {'label': i}) for i in range(len(grid_geometries))]\n",
        "\n",
        "\n",
        "import folium\n",
        "Map = folium.Map(location=[4.247676101204724,-75.22938730661772\n",
        "                               ], zoom_start=10)\n",
        "\n",
        "for i in range(len(eegrid_geometries)):\n",
        "  grid = ee.FeatureCollection(eegrid_geometries[i])\n",
        "  displaytest = ee.Image(0).updateMask(0).paint(grid, '000000', 3)\n",
        "  Map.addLayer(displaytest, {}, 'vectors'+str(i));\n",
        "\n",
        "displaytest = ee.Image(0).updateMask(0).paint(se2_toa._ee_sp, '000000', 3)\n",
        "Map.addLayer(displaytest, {}, 'original')\n",
        "\n",
        "Map.setControlVisibility(layerControl=True, fullscreenControl=True, latLngPopup=True)\n",
        "Map"
      ],
      "execution_count": null,
      "outputs": [
        {
          "output_type": "execute_result",
          "data": {
            "text/html": [
              "<div style=\"width:100%;\"><div style=\"position:relative;width:100%;height:0;padding-bottom:60%;\"><span style=\"color:#565656\">Make this Notebook Trusted to load map: File -> Trust Notebook</span><iframe src=\"about:blank\" style=\"position:absolute;width:100%;height:100%;left:0;top:0;border:none !important;\" data-html=%3C%21DOCTYPE%20html%3E%0A%3Chead%3E%20%20%20%20%0A%20%20%20%20%3Cmeta%20http-equiv%3D%22content-type%22%20content%3D%22text/html%3B%20charset%3DUTF-8%22%20/%3E%0A%20%20%20%20%3Cscript%3EL_PREFER_CANVAS%3Dfalse%3B%20L_NO_TOUCH%3Dfalse%3B%20L_DISABLE_3D%3Dfalse%3B%3C/script%3E%0A%20%20%20%20%3Cscript%20src%3D%22https%3A//cdn.jsdelivr.net/npm/leaflet%401.4.0/dist/leaflet.js%22%3E%3C/script%3E%0A%20%20%20%20%3Cscript%20src%3D%22https%3A//code.jquery.com/jquery-1.12.4.min.js%22%3E%3C/script%3E%0A%20%20%20%20%3Cscript%20src%3D%22https%3A//maxcdn.bootstrapcdn.com/bootstrap/3.2.0/js/bootstrap.min.js%22%3E%3C/script%3E%0A%20%20%20%20%3Cscript%20src%3D%22https%3A//cdnjs.cloudflare.com/ajax/libs/Leaflet.awesome-markers/2.0.2/leaflet.awesome-markers.js%22%3E%3C/script%3E%0A%20%20%20%20%3Clink%20rel%3D%22stylesheet%22%20href%3D%22https%3A//cdn.jsdelivr.net/npm/leaflet%401.4.0/dist/leaflet.css%22/%3E%0A%20%20%20%20%3Clink%20rel%3D%22stylesheet%22%20href%3D%22https%3A//maxcdn.bootstrapcdn.com/bootstrap/3.2.0/css/bootstrap.min.css%22/%3E%0A%20%20%20%20%3Clink%20rel%3D%22stylesheet%22%20href%3D%22https%3A//maxcdn.bootstrapcdn.com/bootstrap/3.2.0/css/bootstrap-theme.min.css%22/%3E%0A%20%20%20%20%3Clink%20rel%3D%22stylesheet%22%20href%3D%22https%3A//maxcdn.bootstrapcdn.com/font-awesome/4.6.3/css/font-awesome.min.css%22/%3E%0A%20%20%20%20%3Clink%20rel%3D%22stylesheet%22%20href%3D%22https%3A//cdnjs.cloudflare.com/ajax/libs/Leaflet.awesome-markers/2.0.2/leaflet.awesome-markers.css%22/%3E%0A%20%20%20%20%3Clink%20rel%3D%22stylesheet%22%20href%3D%22https%3A//rawcdn.githack.com/python-visualization/folium/master/folium/templates/leaflet.awesome.rotate.css%22/%3E%0A%20%20%20%20%3Cstyle%3Ehtml%2C%20body%20%7Bwidth%3A%20100%25%3Bheight%3A%20100%25%3Bmargin%3A%200%3Bpadding%3A%200%3B%7D%3C/style%3E%0A%20%20%20%20%3Cstyle%3E%23map%20%7Bposition%3Aabsolute%3Btop%3A0%3Bbottom%3A0%3Bright%3A0%3Bleft%3A0%3B%7D%3C/style%3E%0A%20%20%20%20%0A%20%20%20%20%3Cmeta%20name%3D%22viewport%22%20content%3D%22width%3Ddevice-width%2C%0A%20%20%20%20%20%20%20%20initial-scale%3D1.0%2C%20maximum-scale%3D1.0%2C%20user-scalable%3Dno%22%20/%3E%0A%20%20%20%20%3Cstyle%3E%23map_7fe0c0df371549d493495c5dd448c8e3%20%7B%0A%20%20%20%20%20%20%20%20position%3A%20relative%3B%0A%20%20%20%20%20%20%20%20width%3A%20100.0%25%3B%0A%20%20%20%20%20%20%20%20height%3A%20100.0%25%3B%0A%20%20%20%20%20%20%20%20left%3A%200.0%25%3B%0A%20%20%20%20%20%20%20%20top%3A%200.0%25%3B%0A%20%20%20%20%20%20%20%20%7D%0A%20%20%20%20%3C/style%3E%0A%20%20%20%20%3Cscript%20src%3D%22https%3A//cdnjs.cloudflare.com/ajax/libs/leaflet.fullscreen/1.4.2/Control.FullScreen.min.js%22%3E%3C/script%3E%0A%20%20%20%20%3Clink%20rel%3D%22stylesheet%22%20href%3D%22https%3A//cdnjs.cloudflare.com/ajax/libs/leaflet.fullscreen/1.4.2/Control.FullScreen.min.css%22/%3E%0A%3C/head%3E%0A%3Cbody%3E%20%20%20%20%0A%20%20%20%20%0A%20%20%20%20%3Cdiv%20class%3D%22folium-map%22%20id%3D%22map_7fe0c0df371549d493495c5dd448c8e3%22%20%3E%3C/div%3E%0A%3C/body%3E%0A%3Cscript%3E%20%20%20%20%0A%20%20%20%20%0A%20%20%20%20%0A%20%20%20%20%20%20%20%20var%20bounds%20%3D%20null%3B%0A%20%20%20%20%0A%0A%20%20%20%20var%20map_7fe0c0df371549d493495c5dd448c8e3%20%3D%20L.map%28%0A%20%20%20%20%20%20%20%20%27map_7fe0c0df371549d493495c5dd448c8e3%27%2C%20%7B%0A%20%20%20%20%20%20%20%20center%3A%20%5B4.247676101204724%2C%20-75.22938730661772%5D%2C%0A%20%20%20%20%20%20%20%20zoom%3A%2010%2C%0A%20%20%20%20%20%20%20%20maxBounds%3A%20bounds%2C%0A%20%20%20%20%20%20%20%20layers%3A%20%5B%5D%2C%0A%20%20%20%20%20%20%20%20worldCopyJump%3A%20false%2C%0A%20%20%20%20%20%20%20%20crs%3A%20L.CRS.EPSG3857%2C%0A%20%20%20%20%20%20%20%20zoomControl%3A%20true%2C%0A%20%20%20%20%20%20%20%20%7D%29%3B%0A%0A%0A%20%20%20%20%0A%20%20%20%20var%20tile_layer_0197e20852fa473683c86370a610c69c%20%3D%20L.tileLayer%28%0A%20%20%20%20%20%20%20%20%27https%3A//%7Bs%7D.tile.openstreetmap.org/%7Bz%7D/%7Bx%7D/%7By%7D.png%27%2C%0A%20%20%20%20%20%20%20%20%7B%0A%20%20%20%20%20%20%20%20%22attribution%22%3A%20null%2C%0A%20%20%20%20%20%20%20%20%22detectRetina%22%3A%20false%2C%0A%20%20%20%20%20%20%20%20%22maxNativeZoom%22%3A%2018%2C%0A%20%20%20%20%20%20%20%20%22maxZoom%22%3A%2018%2C%0A%20%20%20%20%20%20%20%20%22minZoom%22%3A%200%2C%0A%20%20%20%20%20%20%20%20%22noWrap%22%3A%20false%2C%0A%20%20%20%20%20%20%20%20%22opacity%22%3A%201%2C%0A%20%20%20%20%20%20%20%20%22subdomains%22%3A%20%22abc%22%2C%0A%20%20%20%20%20%20%20%20%22tms%22%3A%20false%0A%7D%29.addTo%28map_7fe0c0df371549d493495c5dd448c8e3%29%3B%0A%20%20%20%20var%20tile_layer_bc3ca506745f4004814a0b465e75f024%20%3D%20L.tileLayer%28%0A%20%20%20%20%20%20%20%20%27https%3A//earthengine.googleapis.com/v1alpha/projects/earthengine-legacy/maps/ed57763553149496478a061bd356278c-4acfaa0c22619519ad075231b0afad32/tiles/%7Bz%7D/%7Bx%7D/%7By%7D%27%2C%0A%20%20%20%20%20%20%20%20%7B%0A%20%20%20%20%20%20%20%20%22attribution%22%3A%20%22Google%20Earth%20Engine%22%2C%0A%20%20%20%20%20%20%20%20%22detectRetina%22%3A%20false%2C%0A%20%20%20%20%20%20%20%20%22maxNativeZoom%22%3A%2018%2C%0A%20%20%20%20%20%20%20%20%22maxZoom%22%3A%2018%2C%0A%20%20%20%20%20%20%20%20%22minZoom%22%3A%200%2C%0A%20%20%20%20%20%20%20%20%22noWrap%22%3A%20false%2C%0A%20%20%20%20%20%20%20%20%22opacity%22%3A%201%2C%0A%20%20%20%20%20%20%20%20%22subdomains%22%3A%20%22abc%22%2C%0A%20%20%20%20%20%20%20%20%22tms%22%3A%20false%0A%7D%29.addTo%28map_7fe0c0df371549d493495c5dd448c8e3%29%3B%0A%20%20%20%20var%20tile_layer_de6f8472783046358b3face5a631148e%20%3D%20L.tileLayer%28%0A%20%20%20%20%20%20%20%20%27https%3A//earthengine.googleapis.com/v1alpha/projects/earthengine-legacy/maps/6137f5c4ca0267e23b7ffb9778d10bc8-64dd23d848626d9f6ed15ae29a127413/tiles/%7Bz%7D/%7Bx%7D/%7By%7D%27%2C%0A%20%20%20%20%20%20%20%20%7B%0A%20%20%20%20%20%20%20%20%22attribution%22%3A%20%22Google%20Earth%20Engine%22%2C%0A%20%20%20%20%20%20%20%20%22detectRetina%22%3A%20false%2C%0A%20%20%20%20%20%20%20%20%22maxNativeZoom%22%3A%2018%2C%0A%20%20%20%20%20%20%20%20%22maxZoom%22%3A%2018%2C%0A%20%20%20%20%20%20%20%20%22minZoom%22%3A%200%2C%0A%20%20%20%20%20%20%20%20%22noWrap%22%3A%20false%2C%0A%20%20%20%20%20%20%20%20%22opacity%22%3A%201%2C%0A%20%20%20%20%20%20%20%20%22subdomains%22%3A%20%22abc%22%2C%0A%20%20%20%20%20%20%20%20%22tms%22%3A%20false%0A%7D%29.addTo%28map_7fe0c0df371549d493495c5dd448c8e3%29%3B%0A%20%20%20%20var%20tile_layer_f2fa5e3cfe73490698c84d858a51de05%20%3D%20L.tileLayer%28%0A%20%20%20%20%20%20%20%20%27https%3A//earthengine.googleapis.com/v1alpha/projects/earthengine-legacy/maps/6c315f8f61a32a5548636cf07c697f3e-0d1e100867e9d46e54578606885afdbc/tiles/%7Bz%7D/%7Bx%7D/%7By%7D%27%2C%0A%20%20%20%20%20%20%20%20%7B%0A%20%20%20%20%20%20%20%20%22attribution%22%3A%20%22Google%20Earth%20Engine%22%2C%0A%20%20%20%20%20%20%20%20%22detectRetina%22%3A%20false%2C%0A%20%20%20%20%20%20%20%20%22maxNativeZoom%22%3A%2018%2C%0A%20%20%20%20%20%20%20%20%22maxZoom%22%3A%2018%2C%0A%20%20%20%20%20%20%20%20%22minZoom%22%3A%200%2C%0A%20%20%20%20%20%20%20%20%22noWrap%22%3A%20false%2C%0A%20%20%20%20%20%20%20%20%22opacity%22%3A%201%2C%0A%20%20%20%20%20%20%20%20%22subdomains%22%3A%20%22abc%22%2C%0A%20%20%20%20%20%20%20%20%22tms%22%3A%20false%0A%7D%29.addTo%28map_7fe0c0df371549d493495c5dd448c8e3%29%3B%0A%20%20%20%20var%20tile_layer_cf8c16ea885b4635a30038388e6690d5%20%3D%20L.tileLayer%28%0A%20%20%20%20%20%20%20%20%27https%3A//earthengine.googleapis.com/v1alpha/projects/earthengine-legacy/maps/f24d2b3afd180410bc835177368d22a9-3bd189da234de9894aa0484539fa2f1b/tiles/%7Bz%7D/%7Bx%7D/%7By%7D%27%2C%0A%20%20%20%20%20%20%20%20%7B%0A%20%20%20%20%20%20%20%20%22attribution%22%3A%20%22Google%20Earth%20Engine%22%2C%0A%20%20%20%20%20%20%20%20%22detectRetina%22%3A%20false%2C%0A%20%20%20%20%20%20%20%20%22maxNativeZoom%22%3A%2018%2C%0A%20%20%20%20%20%20%20%20%22maxZoom%22%3A%2018%2C%0A%20%20%20%20%20%20%20%20%22minZoom%22%3A%200%2C%0A%20%20%20%20%20%20%20%20%22noWrap%22%3A%20false%2C%0A%20%20%20%20%20%20%20%20%22opacity%22%3A%201%2C%0A%20%20%20%20%20%20%20%20%22subdomains%22%3A%20%22abc%22%2C%0A%20%20%20%20%20%20%20%20%22tms%22%3A%20false%0A%7D%29.addTo%28map_7fe0c0df371549d493495c5dd448c8e3%29%3B%0A%20%20%20%20var%20tile_layer_61ae58e2f8364ef9956884849bc8ecce%20%3D%20L.tileLayer%28%0A%20%20%20%20%20%20%20%20%27https%3A//earthengine.googleapis.com/v1alpha/projects/earthengine-legacy/maps/9e66e9ce1ec504669b25989b371abf65-4dfcb6e279ebf4b890cbf2439e86a1d6/tiles/%7Bz%7D/%7Bx%7D/%7By%7D%27%2C%0A%20%20%20%20%20%20%20%20%7B%0A%20%20%20%20%20%20%20%20%22attribution%22%3A%20%22Google%20Earth%20Engine%22%2C%0A%20%20%20%20%20%20%20%20%22detectRetina%22%3A%20false%2C%0A%20%20%20%20%20%20%20%20%22maxNativeZoom%22%3A%2018%2C%0A%20%20%20%20%20%20%20%20%22maxZoom%22%3A%2018%2C%0A%20%20%20%20%20%20%20%20%22minZoom%22%3A%200%2C%0A%20%20%20%20%20%20%20%20%22noWrap%22%3A%20false%2C%0A%20%20%20%20%20%20%20%20%22opacity%22%3A%201%2C%0A%20%20%20%20%20%20%20%20%22subdomains%22%3A%20%22abc%22%2C%0A%20%20%20%20%20%20%20%20%22tms%22%3A%20false%0A%7D%29.addTo%28map_7fe0c0df371549d493495c5dd448c8e3%29%3B%0A%20%20%20%20var%20tile_layer_6a519a6917c8420e808b461307ff0053%20%3D%20L.tileLayer%28%0A%20%20%20%20%20%20%20%20%27https%3A//earthengine.googleapis.com/v1alpha/projects/earthengine-legacy/maps/6eff7a8d9d3a443e9cb18782ad0d70a1-6dfb898fef02ae5334394c2f588c2cdb/tiles/%7Bz%7D/%7Bx%7D/%7By%7D%27%2C%0A%20%20%20%20%20%20%20%20%7B%0A%20%20%20%20%20%20%20%20%22attribution%22%3A%20%22Google%20Earth%20Engine%22%2C%0A%20%20%20%20%20%20%20%20%22detectRetina%22%3A%20false%2C%0A%20%20%20%20%20%20%20%20%22maxNativeZoom%22%3A%2018%2C%0A%20%20%20%20%20%20%20%20%22maxZoom%22%3A%2018%2C%0A%20%20%20%20%20%20%20%20%22minZoom%22%3A%200%2C%0A%20%20%20%20%20%20%20%20%22noWrap%22%3A%20false%2C%0A%20%20%20%20%20%20%20%20%22opacity%22%3A%201%2C%0A%20%20%20%20%20%20%20%20%22subdomains%22%3A%20%22abc%22%2C%0A%20%20%20%20%20%20%20%20%22tms%22%3A%20false%0A%7D%29.addTo%28map_7fe0c0df371549d493495c5dd448c8e3%29%3B%0A%20%20%20%20var%20tile_layer_e764c750540a46d1848515d9b14919d6%20%3D%20L.tileLayer%28%0A%20%20%20%20%20%20%20%20%27https%3A//earthengine.googleapis.com/v1alpha/projects/earthengine-legacy/maps/abc2128e8bea99ebe952bc8c54ecc4d0-3ce40f72c7d1ca815443308619d19e9d/tiles/%7Bz%7D/%7Bx%7D/%7By%7D%27%2C%0A%20%20%20%20%20%20%20%20%7B%0A%20%20%20%20%20%20%20%20%22attribution%22%3A%20%22Google%20Earth%20Engine%22%2C%0A%20%20%20%20%20%20%20%20%22detectRetina%22%3A%20false%2C%0A%20%20%20%20%20%20%20%20%22maxNativeZoom%22%3A%2018%2C%0A%20%20%20%20%20%20%20%20%22maxZoom%22%3A%2018%2C%0A%20%20%20%20%20%20%20%20%22minZoom%22%3A%200%2C%0A%20%20%20%20%20%20%20%20%22noWrap%22%3A%20false%2C%0A%20%20%20%20%20%20%20%20%22opacity%22%3A%201%2C%0A%20%20%20%20%20%20%20%20%22subdomains%22%3A%20%22abc%22%2C%0A%20%20%20%20%20%20%20%20%22tms%22%3A%20false%0A%7D%29.addTo%28map_7fe0c0df371549d493495c5dd448c8e3%29%3B%0A%20%20%20%20var%20tile_layer_5ff53bc75e36438d89c0671a8632aa7f%20%3D%20L.tileLayer%28%0A%20%20%20%20%20%20%20%20%27https%3A//earthengine.googleapis.com/v1alpha/projects/earthengine-legacy/maps/f135cf717675f38bd9fd1793803a27d7-34249948f16174b9a67d6c3f78308a8f/tiles/%7Bz%7D/%7Bx%7D/%7By%7D%27%2C%0A%20%20%20%20%20%20%20%20%7B%0A%20%20%20%20%20%20%20%20%22attribution%22%3A%20%22Google%20Earth%20Engine%22%2C%0A%20%20%20%20%20%20%20%20%22detectRetina%22%3A%20false%2C%0A%20%20%20%20%20%20%20%20%22maxNativeZoom%22%3A%2018%2C%0A%20%20%20%20%20%20%20%20%22maxZoom%22%3A%2018%2C%0A%20%20%20%20%20%20%20%20%22minZoom%22%3A%200%2C%0A%20%20%20%20%20%20%20%20%22noWrap%22%3A%20false%2C%0A%20%20%20%20%20%20%20%20%22opacity%22%3A%201%2C%0A%20%20%20%20%20%20%20%20%22subdomains%22%3A%20%22abc%22%2C%0A%20%20%20%20%20%20%20%20%22tms%22%3A%20false%0A%7D%29.addTo%28map_7fe0c0df371549d493495c5dd448c8e3%29%3B%0A%20%20%20%20var%20tile_layer_98b6ffdef6ca435982fb6ba2b9665751%20%3D%20L.tileLayer%28%0A%20%20%20%20%20%20%20%20%27https%3A//earthengine.googleapis.com/v1alpha/projects/earthengine-legacy/maps/ed8afaa345a80aac46f08099fe75d3d4-4cc028994fdaa9593d9d54ff56d87a88/tiles/%7Bz%7D/%7Bx%7D/%7By%7D%27%2C%0A%20%20%20%20%20%20%20%20%7B%0A%20%20%20%20%20%20%20%20%22attribution%22%3A%20%22Google%20Earth%20Engine%22%2C%0A%20%20%20%20%20%20%20%20%22detectRetina%22%3A%20false%2C%0A%20%20%20%20%20%20%20%20%22maxNativeZoom%22%3A%2018%2C%0A%20%20%20%20%20%20%20%20%22maxZoom%22%3A%2018%2C%0A%20%20%20%20%20%20%20%20%22minZoom%22%3A%200%2C%0A%20%20%20%20%20%20%20%20%22noWrap%22%3A%20false%2C%0A%20%20%20%20%20%20%20%20%22opacity%22%3A%201%2C%0A%20%20%20%20%20%20%20%20%22subdomains%22%3A%20%22abc%22%2C%0A%20%20%20%20%20%20%20%20%22tms%22%3A%20false%0A%7D%29.addTo%28map_7fe0c0df371549d493495c5dd448c8e3%29%3B%0A%20%20%20%20var%20tile_layer_23ca65d05d9d496eb4bf6e268b7cec27%20%3D%20L.tileLayer%28%0A%20%20%20%20%20%20%20%20%27https%3A//earthengine.googleapis.com/v1alpha/projects/earthengine-legacy/maps/3998748f9d08f34d9f2726005e7327fb-f4f745d2bb9bf90621671c5f78f40a3b/tiles/%7Bz%7D/%7Bx%7D/%7By%7D%27%2C%0A%20%20%20%20%20%20%20%20%7B%0A%20%20%20%20%20%20%20%20%22attribution%22%3A%20%22Google%20Earth%20Engine%22%2C%0A%20%20%20%20%20%20%20%20%22detectRetina%22%3A%20false%2C%0A%20%20%20%20%20%20%20%20%22maxNativeZoom%22%3A%2018%2C%0A%20%20%20%20%20%20%20%20%22maxZoom%22%3A%2018%2C%0A%20%20%20%20%20%20%20%20%22minZoom%22%3A%200%2C%0A%20%20%20%20%20%20%20%20%22noWrap%22%3A%20false%2C%0A%20%20%20%20%20%20%20%20%22opacity%22%3A%201%2C%0A%20%20%20%20%20%20%20%20%22subdomains%22%3A%20%22abc%22%2C%0A%20%20%20%20%20%20%20%20%22tms%22%3A%20false%0A%7D%29.addTo%28map_7fe0c0df371549d493495c5dd448c8e3%29%3B%0A%20%20%20%20var%20tile_layer_c49c60071cc445ed8b283582be23af5d%20%3D%20L.tileLayer%28%0A%20%20%20%20%20%20%20%20%27https%3A//earthengine.googleapis.com/v1alpha/projects/earthengine-legacy/maps/bb1e165426516156297bdf2c6843ffbe-f4facf56d0bd45467369295efcc5f9ec/tiles/%7Bz%7D/%7Bx%7D/%7By%7D%27%2C%0A%20%20%20%20%20%20%20%20%7B%0A%20%20%20%20%20%20%20%20%22attribution%22%3A%20%22Google%20Earth%20Engine%22%2C%0A%20%20%20%20%20%20%20%20%22detectRetina%22%3A%20false%2C%0A%20%20%20%20%20%20%20%20%22maxNativeZoom%22%3A%2018%2C%0A%20%20%20%20%20%20%20%20%22maxZoom%22%3A%2018%2C%0A%20%20%20%20%20%20%20%20%22minZoom%22%3A%200%2C%0A%20%20%20%20%20%20%20%20%22noWrap%22%3A%20false%2C%0A%20%20%20%20%20%20%20%20%22opacity%22%3A%201%2C%0A%20%20%20%20%20%20%20%20%22subdomains%22%3A%20%22abc%22%2C%0A%20%20%20%20%20%20%20%20%22tms%22%3A%20false%0A%7D%29.addTo%28map_7fe0c0df371549d493495c5dd448c8e3%29%3B%0A%20%20%20%20var%20tile_layer_b41c1e28a24d4d21b80c1be170aed284%20%3D%20L.tileLayer%28%0A%20%20%20%20%20%20%20%20%27https%3A//earthengine.googleapis.com/v1alpha/projects/earthengine-legacy/maps/9cc08f6b801bbd5a4c040d53b04cd0a8-50fa1a7e033276875e71242f3f98e48d/tiles/%7Bz%7D/%7Bx%7D/%7By%7D%27%2C%0A%20%20%20%20%20%20%20%20%7B%0A%20%20%20%20%20%20%20%20%22attribution%22%3A%20%22Google%20Earth%20Engine%22%2C%0A%20%20%20%20%20%20%20%20%22detectRetina%22%3A%20false%2C%0A%20%20%20%20%20%20%20%20%22maxNativeZoom%22%3A%2018%2C%0A%20%20%20%20%20%20%20%20%22maxZoom%22%3A%2018%2C%0A%20%20%20%20%20%20%20%20%22minZoom%22%3A%200%2C%0A%20%20%20%20%20%20%20%20%22noWrap%22%3A%20false%2C%0A%20%20%20%20%20%20%20%20%22opacity%22%3A%201%2C%0A%20%20%20%20%20%20%20%20%22subdomains%22%3A%20%22abc%22%2C%0A%20%20%20%20%20%20%20%20%22tms%22%3A%20false%0A%7D%29.addTo%28map_7fe0c0df371549d493495c5dd448c8e3%29%3B%0A%20%20%20%20var%20tile_layer_569d8f6886bf48788a53d9ad58e0f5b5%20%3D%20L.tileLayer%28%0A%20%20%20%20%20%20%20%20%27https%3A//earthengine.googleapis.com/v1alpha/projects/earthengine-legacy/maps/05bc61fba44429671da26ea9b4dd8827-8fddc6470058e22866e7236ad268dc20/tiles/%7Bz%7D/%7Bx%7D/%7By%7D%27%2C%0A%20%20%20%20%20%20%20%20%7B%0A%20%20%20%20%20%20%20%20%22attribution%22%3A%20%22Google%20Earth%20Engine%22%2C%0A%20%20%20%20%20%20%20%20%22detectRetina%22%3A%20false%2C%0A%20%20%20%20%20%20%20%20%22maxNativeZoom%22%3A%2018%2C%0A%20%20%20%20%20%20%20%20%22maxZoom%22%3A%2018%2C%0A%20%20%20%20%20%20%20%20%22minZoom%22%3A%200%2C%0A%20%20%20%20%20%20%20%20%22noWrap%22%3A%20false%2C%0A%20%20%20%20%20%20%20%20%22opacity%22%3A%201%2C%0A%20%20%20%20%20%20%20%20%22subdomains%22%3A%20%22abc%22%2C%0A%20%20%20%20%20%20%20%20%22tms%22%3A%20false%0A%7D%29.addTo%28map_7fe0c0df371549d493495c5dd448c8e3%29%3B%0A%20%20%20%20var%20tile_layer_dba213e4bfdf4593b37c8e2c88f8e642%20%3D%20L.tileLayer%28%0A%20%20%20%20%20%20%20%20%27https%3A//earthengine.googleapis.com/v1alpha/projects/earthengine-legacy/maps/aeb3adfc0b1d462d711bb0ad08c8582f-0615c7d40bc37caa2b3a7468a853e990/tiles/%7Bz%7D/%7Bx%7D/%7By%7D%27%2C%0A%20%20%20%20%20%20%20%20%7B%0A%20%20%20%20%20%20%20%20%22attribution%22%3A%20%22Google%20Earth%20Engine%22%2C%0A%20%20%20%20%20%20%20%20%22detectRetina%22%3A%20false%2C%0A%20%20%20%20%20%20%20%20%22maxNativeZoom%22%3A%2018%2C%0A%20%20%20%20%20%20%20%20%22maxZoom%22%3A%2018%2C%0A%20%20%20%20%20%20%20%20%22minZoom%22%3A%200%2C%0A%20%20%20%20%20%20%20%20%22noWrap%22%3A%20false%2C%0A%20%20%20%20%20%20%20%20%22opacity%22%3A%201%2C%0A%20%20%20%20%20%20%20%20%22subdomains%22%3A%20%22abc%22%2C%0A%20%20%20%20%20%20%20%20%22tms%22%3A%20false%0A%7D%29.addTo%28map_7fe0c0df371549d493495c5dd448c8e3%29%3B%0A%20%20%20%20var%20tile_layer_2dd7770840d046e7b29cd5d9e7670de9%20%3D%20L.tileLayer%28%0A%20%20%20%20%20%20%20%20%27https%3A//earthengine.googleapis.com/v1alpha/projects/earthengine-legacy/maps/8f81a0c12133941e033019aa8b1621c4-4f5667a566e9f2996f964e7435b844e2/tiles/%7Bz%7D/%7Bx%7D/%7By%7D%27%2C%0A%20%20%20%20%20%20%20%20%7B%0A%20%20%20%20%20%20%20%20%22attribution%22%3A%20%22Google%20Earth%20Engine%22%2C%0A%20%20%20%20%20%20%20%20%22detectRetina%22%3A%20false%2C%0A%20%20%20%20%20%20%20%20%22maxNativeZoom%22%3A%2018%2C%0A%20%20%20%20%20%20%20%20%22maxZoom%22%3A%2018%2C%0A%20%20%20%20%20%20%20%20%22minZoom%22%3A%200%2C%0A%20%20%20%20%20%20%20%20%22noWrap%22%3A%20false%2C%0A%20%20%20%20%20%20%20%20%22opacity%22%3A%201%2C%0A%20%20%20%20%20%20%20%20%22subdomains%22%3A%20%22abc%22%2C%0A%20%20%20%20%20%20%20%20%22tms%22%3A%20false%0A%7D%29.addTo%28map_7fe0c0df371549d493495c5dd448c8e3%29%3B%0A%20%20%20%20var%20tile_layer_94f5556e91114f04b3616d42c19695c3%20%3D%20L.tileLayer%28%0A%20%20%20%20%20%20%20%20%27https%3A//earthengine.googleapis.com/v1alpha/projects/earthengine-legacy/maps/ee1c13fbf2e884da9c1844fd699795f3-b5526f28c6cf41efc45257a2830fd4a5/tiles/%7Bz%7D/%7Bx%7D/%7By%7D%27%2C%0A%20%20%20%20%20%20%20%20%7B%0A%20%20%20%20%20%20%20%20%22attribution%22%3A%20%22Google%20Earth%20Engine%22%2C%0A%20%20%20%20%20%20%20%20%22detectRetina%22%3A%20false%2C%0A%20%20%20%20%20%20%20%20%22maxNativeZoom%22%3A%2018%2C%0A%20%20%20%20%20%20%20%20%22maxZoom%22%3A%2018%2C%0A%20%20%20%20%20%20%20%20%22minZoom%22%3A%200%2C%0A%20%20%20%20%20%20%20%20%22noWrap%22%3A%20false%2C%0A%20%20%20%20%20%20%20%20%22opacity%22%3A%201%2C%0A%20%20%20%20%20%20%20%20%22subdomains%22%3A%20%22abc%22%2C%0A%20%20%20%20%20%20%20%20%22tms%22%3A%20false%0A%7D%29.addTo%28map_7fe0c0df371549d493495c5dd448c8e3%29%3B%0A%20%20%20%20var%20tile_layer_af9bfdf21c114d94952c93ae0b03b30c%20%3D%20L.tileLayer%28%0A%20%20%20%20%20%20%20%20%27https%3A//earthengine.googleapis.com/v1alpha/projects/earthengine-legacy/maps/4023b76bed4c19967073aae4763ddaca-83d22da30041d89b35c9ebe02b7edbb1/tiles/%7Bz%7D/%7Bx%7D/%7By%7D%27%2C%0A%20%20%20%20%20%20%20%20%7B%0A%20%20%20%20%20%20%20%20%22attribution%22%3A%20%22Google%20Earth%20Engine%22%2C%0A%20%20%20%20%20%20%20%20%22detectRetina%22%3A%20false%2C%0A%20%20%20%20%20%20%20%20%22maxNativeZoom%22%3A%2018%2C%0A%20%20%20%20%20%20%20%20%22maxZoom%22%3A%2018%2C%0A%20%20%20%20%20%20%20%20%22minZoom%22%3A%200%2C%0A%20%20%20%20%20%20%20%20%22noWrap%22%3A%20false%2C%0A%20%20%20%20%20%20%20%20%22opacity%22%3A%201%2C%0A%20%20%20%20%20%20%20%20%22subdomains%22%3A%20%22abc%22%2C%0A%20%20%20%20%20%20%20%20%22tms%22%3A%20false%0A%7D%29.addTo%28map_7fe0c0df371549d493495c5dd448c8e3%29%3B%0A%20%20%20%20%0A%20%20%20%20%20%20%20%20%20%20%20%20var%20layer_control_bb4ff7d7b66a44bdadf035aad27eaec3%20%3D%20%7B%0A%20%20%20%20%20%20%20%20%20%20%20%20%20%20%20%20base_layers%20%3A%20%7B%20%22openstreetmap%22%20%3A%20tile_layer_0197e20852fa473683c86370a610c69c%2C%20%7D%2C%0A%20%20%20%20%20%20%20%20%20%20%20%20%20%20%20%20overlays%20%3A%20%7B%20%22vectors0%22%20%3A%20tile_layer_bc3ca506745f4004814a0b465e75f024%2C%22vectors1%22%20%3A%20tile_layer_de6f8472783046358b3face5a631148e%2C%22vectors2%22%20%3A%20tile_layer_f2fa5e3cfe73490698c84d858a51de05%2C%22vectors3%22%20%3A%20tile_layer_cf8c16ea885b4635a30038388e6690d5%2C%22vectors4%22%20%3A%20tile_layer_61ae58e2f8364ef9956884849bc8ecce%2C%22vectors5%22%20%3A%20tile_layer_6a519a6917c8420e808b461307ff0053%2C%22vectors6%22%20%3A%20tile_layer_e764c750540a46d1848515d9b14919d6%2C%22vectors7%22%20%3A%20tile_layer_5ff53bc75e36438d89c0671a8632aa7f%2C%22vectors8%22%20%3A%20tile_layer_98b6ffdef6ca435982fb6ba2b9665751%2C%22vectors9%22%20%3A%20tile_layer_23ca65d05d9d496eb4bf6e268b7cec27%2C%22vectors10%22%20%3A%20tile_layer_c49c60071cc445ed8b283582be23af5d%2C%22vectors11%22%20%3A%20tile_layer_b41c1e28a24d4d21b80c1be170aed284%2C%22vectors12%22%20%3A%20tile_layer_569d8f6886bf48788a53d9ad58e0f5b5%2C%22vectors13%22%20%3A%20tile_layer_dba213e4bfdf4593b37c8e2c88f8e642%2C%22vectors14%22%20%3A%20tile_layer_2dd7770840d046e7b29cd5d9e7670de9%2C%22vectors15%22%20%3A%20tile_layer_94f5556e91114f04b3616d42c19695c3%2C%22original%22%20%3A%20tile_layer_af9bfdf21c114d94952c93ae0b03b30c%2C%20%7D%0A%20%20%20%20%20%20%20%20%20%20%20%20%20%20%20%20%7D%3B%0A%20%20%20%20%20%20%20%20%20%20%20%20L.control.layers%28%0A%20%20%20%20%20%20%20%20%20%20%20%20%20%20%20%20layer_control_bb4ff7d7b66a44bdadf035aad27eaec3.base_layers%2C%0A%20%20%20%20%20%20%20%20%20%20%20%20%20%20%20%20layer_control_bb4ff7d7b66a44bdadf035aad27eaec3.overlays%2C%0A%20%20%20%20%20%20%20%20%20%20%20%20%20%20%20%20%7Bposition%3A%20%27topright%27%2C%0A%20%20%20%20%20%20%20%20%20%20%20%20%20%20%20%20%20collapsed%3A%20true%2C%0A%20%20%20%20%20%20%20%20%20%20%20%20%20%20%20%20%20autoZIndex%3A%20true%0A%20%20%20%20%20%20%20%20%20%20%20%20%20%20%20%20%7D%29.addTo%28map_7fe0c0df371549d493495c5dd448c8e3%29%3B%0A%20%20%20%20%20%20%20%20%20%20%20%20%0A%20%20%20%20%20%20%20%20%0A%20%20%20%20%0A%20%20%20%20%20%20%20%20%20%20%20%20L.control.fullscreen%28%7B%0A%20%20%20%20%20%20%20%20%20%20%20%20%20%20%20%20position%3A%20%27topleft%27%2C%0A%20%20%20%20%20%20%20%20%20%20%20%20%20%20%20%20title%3A%20%27Full%20Screen%27%2C%0A%20%20%20%20%20%20%20%20%20%20%20%20%20%20%20%20titleCancel%3A%20%27Exit%20Full%20Screen%27%2C%0A%20%20%20%20%20%20%20%20%20%20%20%20%20%20%20%20forceSeparateButton%3A%20false%2C%0A%20%20%20%20%20%20%20%20%20%20%20%20%20%20%20%20%7D%29.addTo%28map_7fe0c0df371549d493495c5dd448c8e3%29%3B%0A%20%20%20%20%20%20%20%20%20%20%20%20map_7fe0c0df371549d493495c5dd448c8e3.on%28%27enterFullscreen%27%2C%20function%28%29%7B%0A%20%20%20%20%20%20%20%20%20%20%20%20%20%20%20%20console.log%28%27entered%20fullscreen%27%29%3B%0A%20%20%20%20%20%20%20%20%20%20%20%20%7D%29%3B%0A%0A%20%20%20%20%20%20%20%20%0A%20%20%20%20%0A%20%20%20%20%20%20%20%20%20%20%20%20%20%20%20%20var%20lat_lng_popup_c8234d95e2e947f8b23a17738599b06d%20%3D%20L.popup%28%29%3B%0A%20%20%20%20%20%20%20%20%20%20%20%20%20%20%20%20function%20latLngPop%28e%29%20%7B%0A%20%20%20%20%20%20%20%20%20%20%20%20%20%20%20%20%20%20%20%20lat_lng_popup_c8234d95e2e947f8b23a17738599b06d%0A%20%20%20%20%20%20%20%20%20%20%20%20%20%20%20%20%20%20%20%20%20%20%20%20.setLatLng%28e.latlng%29%0A%20%20%20%20%20%20%20%20%20%20%20%20%20%20%20%20%20%20%20%20%20%20%20%20.setContent%28%22Latitude%3A%20%22%20%2B%20e.latlng.lat.toFixed%284%29%20%2B%0A%20%20%20%20%20%20%20%20%20%20%20%20%20%20%20%20%20%20%20%20%20%20%20%20%20%20%20%20%20%20%20%20%20%20%20%20%22%3Cbr%3ELongitude%3A%20%22%20%2B%20e.latlng.lng.toFixed%284%29%29%0A%20%20%20%20%20%20%20%20%20%20%20%20%20%20%20%20%20%20%20%20%20%20%20%20.openOn%28map_7fe0c0df371549d493495c5dd448c8e3%29%3B%0A%20%20%20%20%20%20%20%20%20%20%20%20%20%20%20%20%20%20%20%20%7D%0A%20%20%20%20%20%20%20%20%20%20%20%20%20%20%20%20map_7fe0c0df371549d493495c5dd448c8e3.on%28%27click%27%2C%20latLngPop%29%3B%0A%20%20%20%20%20%20%20%20%20%20%20%20%0A%3C/script%3E onload=\"this.contentDocument.open();this.contentDocument.write(    decodeURIComponent(this.getAttribute('data-html')));this.contentDocument.close();\" allowfullscreen webkitallowfullscreen mozallowfullscreen></iframe></div></div>"
            ],
            "text/plain": [
              "<folium.folium.Map at 0x7f7ee31ad810>"
            ]
          },
          "metadata": {
            "tags": []
          },
          "execution_count": 9
        }
      ]
    },
    {
      "cell_type": "markdown",
      "metadata": {
        "id": "Y-SrJHvmNByV"
      },
      "source": [
        "the segmentation funcition will be applied for each tile"
      ]
    },
    {
      "cell_type": "code",
      "metadata": {
        "id": "7m2pPP93tc8h"
      },
      "source": [
        "def summarize_spimage(image, polygons):\n",
        "    image = image.addBands(polygons)\n",
        "    \n",
        "    image = image.reduceConnectedComponents(\n",
        "      reducer= ee.Reducer.mean(),\n",
        "      labelBand= 'first'\n",
        "    )\n",
        "    return image"
      ],
      "execution_count": null,
      "outputs": []
    },
    {
      "cell_type": "code",
      "metadata": {
        "id": "npR0nu7MM6Qz"
      },
      "source": [
        "polygons_pertile = []\n",
        "snic_list = []\n",
        "superpixels_summary = []\n",
        "superpixels_quantile = []\n",
        "\n",
        "for i in range(len(eegrid_geometries)):\n",
        "  \n",
        "  tilecollection = imgcollection.map(lambda img:\n",
        "                                  img.unmask(0).clip(eegrid_geometries[i]))\n",
        "  ## get image segmentation using SNIC method\n",
        "  snic = gee_functions.gee_snic(tilecollection,eegrid_geometries[i], bands = [\"ndvi\"] )\n",
        "  ### from image segments to polygons\n",
        "  polygons_fromseg = gee_functions.raster_to_polygons(snic, tilecollection.select([\"ndvi\"]\n",
        "                                        ).median(), \n",
        "                                            eegrid_geometries[i].geometry(), scale = 8)\n",
        "  \n",
        "  train_areas = polygons_fromseg.reduceToImage(\n",
        "    properties= ['zone'],\n",
        "    reducer= ee.Reducer.first()\n",
        "  ).toInt()\n",
        "\n",
        "  \n",
        "  ### store outputs in lists\n",
        "  snic_list.append(snic)\n",
        "  grid_geometries.append(polygons_fromseg)\n",
        "\n",
        "  coll_segmentation = s1_imagery.image_collection.map(lambda image:\n",
        "                                  summarize_spimage(image.select(['VV']).clip(eegrid_geometries[i]), \n",
        "                                                                           train_areas))\n",
        "  \n",
        "  #superpixels_summary.append(coll_segmentation)\n",
        "  superpixels_quantile.append(coll_segmentation.reduce(ee.Reducer.percentile([5,10, 25, 50, 75 , 90, 95])))\n",
        "  "
      ],
      "execution_count": null,
      "outputs": []
    },
    {
      "cell_type": "code",
      "metadata": {
        "id": "zrPOKpdnljPq"
      },
      "source": [
        "img_merged = ee.ImageCollection(superpixels_quantile).reduce(ee.Reducer.mean())\n",
        "\n",
        "sp_bands = img_merged.bandNames().getInfo()\n",
        "sp_bands"
      ],
      "execution_count": null,
      "outputs": []
    },
    {
      "cell_type": "code",
      "metadata": {
        "colab": {
          "base_uri": "https://localhost:8080/",
          "height": 831
        },
        "id": "3rBQBqUbg6jn",
        "outputId": "b4439f88-3315-4dd9-fcff-634144ef7547"
      },
      "source": [
        "import folium\n",
        "Map = folium.Map(location=[4.247676101204724,-75.22938730661772\n",
        "                               ], zoom_start=10)\n",
        "\n",
        "\n",
        "Map.addLayer(ee.Image(img_merged).select(['VV_p5_mean']), {'gamma': 1.3, 'min':-25, 'max':0}, 'orig');\n",
        "\n",
        "#displaytest = ee.Image(0).updateMask(0).paint(polygons_fromseg, '000000', 3)\n",
        "#Map.addLayer(displaytest, {}, 'original')\n",
        "\n",
        "Map.setControlVisibility(layerControl=True, fullscreenControl=True, latLngPopup=True)\n",
        "Map"
      ],
      "execution_count": null,
      "outputs": [
        {
          "output_type": "execute_result",
          "data": {
            "text/html": [
              "<div style=\"width:100%;\"><div style=\"position:relative;width:100%;height:0;padding-bottom:60%;\"><span style=\"color:#565656\">Make this Notebook Trusted to load map: File -> Trust Notebook</span><iframe src=\"about:blank\" style=\"position:absolute;width:100%;height:100%;left:0;top:0;border:none !important;\" data-html=%3C%21DOCTYPE%20html%3E%0A%3Chead%3E%20%20%20%20%0A%20%20%20%20%3Cmeta%20http-equiv%3D%22content-type%22%20content%3D%22text/html%3B%20charset%3DUTF-8%22%20/%3E%0A%20%20%20%20%3Cscript%3EL_PREFER_CANVAS%3Dfalse%3B%20L_NO_TOUCH%3Dfalse%3B%20L_DISABLE_3D%3Dfalse%3B%3C/script%3E%0A%20%20%20%20%3Cscript%20src%3D%22https%3A//cdn.jsdelivr.net/npm/leaflet%401.4.0/dist/leaflet.js%22%3E%3C/script%3E%0A%20%20%20%20%3Cscript%20src%3D%22https%3A//code.jquery.com/jquery-1.12.4.min.js%22%3E%3C/script%3E%0A%20%20%20%20%3Cscript%20src%3D%22https%3A//maxcdn.bootstrapcdn.com/bootstrap/3.2.0/js/bootstrap.min.js%22%3E%3C/script%3E%0A%20%20%20%20%3Cscript%20src%3D%22https%3A//cdnjs.cloudflare.com/ajax/libs/Leaflet.awesome-markers/2.0.2/leaflet.awesome-markers.js%22%3E%3C/script%3E%0A%20%20%20%20%3Clink%20rel%3D%22stylesheet%22%20href%3D%22https%3A//cdn.jsdelivr.net/npm/leaflet%401.4.0/dist/leaflet.css%22/%3E%0A%20%20%20%20%3Clink%20rel%3D%22stylesheet%22%20href%3D%22https%3A//maxcdn.bootstrapcdn.com/bootstrap/3.2.0/css/bootstrap.min.css%22/%3E%0A%20%20%20%20%3Clink%20rel%3D%22stylesheet%22%20href%3D%22https%3A//maxcdn.bootstrapcdn.com/bootstrap/3.2.0/css/bootstrap-theme.min.css%22/%3E%0A%20%20%20%20%3Clink%20rel%3D%22stylesheet%22%20href%3D%22https%3A//maxcdn.bootstrapcdn.com/font-awesome/4.6.3/css/font-awesome.min.css%22/%3E%0A%20%20%20%20%3Clink%20rel%3D%22stylesheet%22%20href%3D%22https%3A//cdnjs.cloudflare.com/ajax/libs/Leaflet.awesome-markers/2.0.2/leaflet.awesome-markers.css%22/%3E%0A%20%20%20%20%3Clink%20rel%3D%22stylesheet%22%20href%3D%22https%3A//rawcdn.githack.com/python-visualization/folium/master/folium/templates/leaflet.awesome.rotate.css%22/%3E%0A%20%20%20%20%3Cstyle%3Ehtml%2C%20body%20%7Bwidth%3A%20100%25%3Bheight%3A%20100%25%3Bmargin%3A%200%3Bpadding%3A%200%3B%7D%3C/style%3E%0A%20%20%20%20%3Cstyle%3E%23map%20%7Bposition%3Aabsolute%3Btop%3A0%3Bbottom%3A0%3Bright%3A0%3Bleft%3A0%3B%7D%3C/style%3E%0A%20%20%20%20%0A%20%20%20%20%3Cmeta%20name%3D%22viewport%22%20content%3D%22width%3Ddevice-width%2C%0A%20%20%20%20%20%20%20%20initial-scale%3D1.0%2C%20maximum-scale%3D1.0%2C%20user-scalable%3Dno%22%20/%3E%0A%20%20%20%20%3Cstyle%3E%23map_85eae877dc2c43aeb993f6ccf7f045ca%20%7B%0A%20%20%20%20%20%20%20%20position%3A%20relative%3B%0A%20%20%20%20%20%20%20%20width%3A%20100.0%25%3B%0A%20%20%20%20%20%20%20%20height%3A%20100.0%25%3B%0A%20%20%20%20%20%20%20%20left%3A%200.0%25%3B%0A%20%20%20%20%20%20%20%20top%3A%200.0%25%3B%0A%20%20%20%20%20%20%20%20%7D%0A%20%20%20%20%3C/style%3E%0A%20%20%20%20%3Cscript%20src%3D%22https%3A//cdnjs.cloudflare.com/ajax/libs/leaflet.fullscreen/1.4.2/Control.FullScreen.min.js%22%3E%3C/script%3E%0A%20%20%20%20%3Clink%20rel%3D%22stylesheet%22%20href%3D%22https%3A//cdnjs.cloudflare.com/ajax/libs/leaflet.fullscreen/1.4.2/Control.FullScreen.min.css%22/%3E%0A%3C/head%3E%0A%3Cbody%3E%20%20%20%20%0A%20%20%20%20%0A%20%20%20%20%3Cdiv%20class%3D%22folium-map%22%20id%3D%22map_85eae877dc2c43aeb993f6ccf7f045ca%22%20%3E%3C/div%3E%0A%3C/body%3E%0A%3Cscript%3E%20%20%20%20%0A%20%20%20%20%0A%20%20%20%20%0A%20%20%20%20%20%20%20%20var%20bounds%20%3D%20null%3B%0A%20%20%20%20%0A%0A%20%20%20%20var%20map_85eae877dc2c43aeb993f6ccf7f045ca%20%3D%20L.map%28%0A%20%20%20%20%20%20%20%20%27map_85eae877dc2c43aeb993f6ccf7f045ca%27%2C%20%7B%0A%20%20%20%20%20%20%20%20center%3A%20%5B4.247676101204724%2C%20-75.22938730661772%5D%2C%0A%20%20%20%20%20%20%20%20zoom%3A%2010%2C%0A%20%20%20%20%20%20%20%20maxBounds%3A%20bounds%2C%0A%20%20%20%20%20%20%20%20layers%3A%20%5B%5D%2C%0A%20%20%20%20%20%20%20%20worldCopyJump%3A%20false%2C%0A%20%20%20%20%20%20%20%20crs%3A%20L.CRS.EPSG3857%2C%0A%20%20%20%20%20%20%20%20zoomControl%3A%20true%2C%0A%20%20%20%20%20%20%20%20%7D%29%3B%0A%0A%0A%20%20%20%20%0A%20%20%20%20var%20tile_layer_466c157c11544fafb91640b5dca1acc9%20%3D%20L.tileLayer%28%0A%20%20%20%20%20%20%20%20%27https%3A//%7Bs%7D.tile.openstreetmap.org/%7Bz%7D/%7Bx%7D/%7By%7D.png%27%2C%0A%20%20%20%20%20%20%20%20%7B%0A%20%20%20%20%20%20%20%20%22attribution%22%3A%20null%2C%0A%20%20%20%20%20%20%20%20%22detectRetina%22%3A%20false%2C%0A%20%20%20%20%20%20%20%20%22maxNativeZoom%22%3A%2018%2C%0A%20%20%20%20%20%20%20%20%22maxZoom%22%3A%2018%2C%0A%20%20%20%20%20%20%20%20%22minZoom%22%3A%200%2C%0A%20%20%20%20%20%20%20%20%22noWrap%22%3A%20false%2C%0A%20%20%20%20%20%20%20%20%22opacity%22%3A%201%2C%0A%20%20%20%20%20%20%20%20%22subdomains%22%3A%20%22abc%22%2C%0A%20%20%20%20%20%20%20%20%22tms%22%3A%20false%0A%7D%29.addTo%28map_85eae877dc2c43aeb993f6ccf7f045ca%29%3B%0A%20%20%20%20var%20tile_layer_bfdd388389f34212ac06468f39b4bec9%20%3D%20L.tileLayer%28%0A%20%20%20%20%20%20%20%20%27https%3A//earthengine.googleapis.com/v1alpha/projects/earthengine-legacy/maps/5e3a1acb1e8c59a63deb68c685e45a5c-111f1321a48f686fbb6e007d570e9a68/tiles/%7Bz%7D/%7Bx%7D/%7By%7D%27%2C%0A%20%20%20%20%20%20%20%20%7B%0A%20%20%20%20%20%20%20%20%22attribution%22%3A%20%22Google%20Earth%20Engine%22%2C%0A%20%20%20%20%20%20%20%20%22detectRetina%22%3A%20false%2C%0A%20%20%20%20%20%20%20%20%22maxNativeZoom%22%3A%2018%2C%0A%20%20%20%20%20%20%20%20%22maxZoom%22%3A%2018%2C%0A%20%20%20%20%20%20%20%20%22minZoom%22%3A%200%2C%0A%20%20%20%20%20%20%20%20%22noWrap%22%3A%20false%2C%0A%20%20%20%20%20%20%20%20%22opacity%22%3A%201%2C%0A%20%20%20%20%20%20%20%20%22subdomains%22%3A%20%22abc%22%2C%0A%20%20%20%20%20%20%20%20%22tms%22%3A%20false%0A%7D%29.addTo%28map_85eae877dc2c43aeb993f6ccf7f045ca%29%3B%0A%20%20%20%20%0A%20%20%20%20%20%20%20%20%20%20%20%20var%20layer_control_bffdbf63f6d7459ba44525d61501e83c%20%3D%20%7B%0A%20%20%20%20%20%20%20%20%20%20%20%20%20%20%20%20base_layers%20%3A%20%7B%20%22openstreetmap%22%20%3A%20tile_layer_466c157c11544fafb91640b5dca1acc9%2C%20%7D%2C%0A%20%20%20%20%20%20%20%20%20%20%20%20%20%20%20%20overlays%20%3A%20%7B%20%22orig%22%20%3A%20tile_layer_bfdd388389f34212ac06468f39b4bec9%2C%20%7D%0A%20%20%20%20%20%20%20%20%20%20%20%20%20%20%20%20%7D%3B%0A%20%20%20%20%20%20%20%20%20%20%20%20L.control.layers%28%0A%20%20%20%20%20%20%20%20%20%20%20%20%20%20%20%20layer_control_bffdbf63f6d7459ba44525d61501e83c.base_layers%2C%0A%20%20%20%20%20%20%20%20%20%20%20%20%20%20%20%20layer_control_bffdbf63f6d7459ba44525d61501e83c.overlays%2C%0A%20%20%20%20%20%20%20%20%20%20%20%20%20%20%20%20%7Bposition%3A%20%27topright%27%2C%0A%20%20%20%20%20%20%20%20%20%20%20%20%20%20%20%20%20collapsed%3A%20true%2C%0A%20%20%20%20%20%20%20%20%20%20%20%20%20%20%20%20%20autoZIndex%3A%20true%0A%20%20%20%20%20%20%20%20%20%20%20%20%20%20%20%20%7D%29.addTo%28map_85eae877dc2c43aeb993f6ccf7f045ca%29%3B%0A%20%20%20%20%20%20%20%20%20%20%20%20%0A%20%20%20%20%20%20%20%20%0A%20%20%20%20%0A%20%20%20%20%20%20%20%20%20%20%20%20L.control.fullscreen%28%7B%0A%20%20%20%20%20%20%20%20%20%20%20%20%20%20%20%20position%3A%20%27topleft%27%2C%0A%20%20%20%20%20%20%20%20%20%20%20%20%20%20%20%20title%3A%20%27Full%20Screen%27%2C%0A%20%20%20%20%20%20%20%20%20%20%20%20%20%20%20%20titleCancel%3A%20%27Exit%20Full%20Screen%27%2C%0A%20%20%20%20%20%20%20%20%20%20%20%20%20%20%20%20forceSeparateButton%3A%20false%2C%0A%20%20%20%20%20%20%20%20%20%20%20%20%20%20%20%20%7D%29.addTo%28map_85eae877dc2c43aeb993f6ccf7f045ca%29%3B%0A%20%20%20%20%20%20%20%20%20%20%20%20map_85eae877dc2c43aeb993f6ccf7f045ca.on%28%27enterFullscreen%27%2C%20function%28%29%7B%0A%20%20%20%20%20%20%20%20%20%20%20%20%20%20%20%20console.log%28%27entered%20fullscreen%27%29%3B%0A%20%20%20%20%20%20%20%20%20%20%20%20%7D%29%3B%0A%0A%20%20%20%20%20%20%20%20%0A%20%20%20%20%0A%20%20%20%20%20%20%20%20%20%20%20%20%20%20%20%20var%20lat_lng_popup_b62beec43ab84c36b660354912d6402e%20%3D%20L.popup%28%29%3B%0A%20%20%20%20%20%20%20%20%20%20%20%20%20%20%20%20function%20latLngPop%28e%29%20%7B%0A%20%20%20%20%20%20%20%20%20%20%20%20%20%20%20%20%20%20%20%20lat_lng_popup_b62beec43ab84c36b660354912d6402e%0A%20%20%20%20%20%20%20%20%20%20%20%20%20%20%20%20%20%20%20%20%20%20%20%20.setLatLng%28e.latlng%29%0A%20%20%20%20%20%20%20%20%20%20%20%20%20%20%20%20%20%20%20%20%20%20%20%20.setContent%28%22Latitude%3A%20%22%20%2B%20e.latlng.lat.toFixed%284%29%20%2B%0A%20%20%20%20%20%20%20%20%20%20%20%20%20%20%20%20%20%20%20%20%20%20%20%20%20%20%20%20%20%20%20%20%20%20%20%20%22%3Cbr%3ELongitude%3A%20%22%20%2B%20e.latlng.lng.toFixed%284%29%29%0A%20%20%20%20%20%20%20%20%20%20%20%20%20%20%20%20%20%20%20%20%20%20%20%20.openOn%28map_85eae877dc2c43aeb993f6ccf7f045ca%29%3B%0A%20%20%20%20%20%20%20%20%20%20%20%20%20%20%20%20%20%20%20%20%7D%0A%20%20%20%20%20%20%20%20%20%20%20%20%20%20%20%20map_85eae877dc2c43aeb993f6ccf7f045ca.on%28%27click%27%2C%20latLngPop%29%3B%0A%20%20%20%20%20%20%20%20%20%20%20%20%0A%3C/script%3E onload=\"this.contentDocument.open();this.contentDocument.write(    decodeURIComponent(this.getAttribute('data-html')));this.contentDocument.close();\" allowfullscreen webkitallowfullscreen mozallowfullscreen></iframe></div></div>"
            ],
            "text/plain": [
              "<folium.folium.Map at 0x7fe511d83d10>"
            ]
          },
          "metadata": {
            "tags": []
          },
          "execution_count": 65
        }
      ]
    },
    {
      "cell_type": "code",
      "metadata": {
        "colab": {
          "base_uri": "https://localhost:8080/"
        },
        "id": "nopuu84CuME7",
        "outputId": "192e50ee-89f2-4d52-a8ad-6df1819d03e7"
      },
      "source": [
        "from google.colab import drive\n",
        "drive.mount('/content/drive')"
      ],
      "execution_count": null,
      "outputs": [
        {
          "output_type": "stream",
          "text": [
            "Mounted at /content/drive\n"
          ],
          "name": "stdout"
        }
      ]
    },
    {
      "cell_type": "code",
      "metadata": {
        "id": "397sCg43558A",
        "colab": {
          "base_uri": "https://localhost:8080/"
        },
        "outputId": "4df0c597-ee67-4cf9-99af-d6643b544b2b"
      },
      "source": [
        "import time\n",
        "\n",
        "for band in sp_bands:\n",
        "  image_todownload = ee.Image(img_merged.select(band))\n",
        "\n",
        "  task = ee.batch.Export.image.toDrive(**{\n",
        "                  'image': ee.Image(image_todownload),\n",
        "                  'description': \"s1_per_superpixel_2017_{}\".format(band),\n",
        "                  'folder': '/content/drive/MyDrive/satellite_images',\n",
        "                  'scale': 10,\n",
        "                  'region': s1_imagery._ee_sp['coordinates']\n",
        "              })\n",
        "\n",
        "  task.start()\n",
        "  while task.active():\n",
        "      print('Polling for task (id: {}).'.format( \"s1_per_superpixel_2017_{}\".format(band)))\n",
        "      time.sleep(20)"
      ],
      "execution_count": null,
      "outputs": [
        {
          "output_type": "stream",
          "text": [
            "Polling for task (id: s1_per_superpixel_2017_VV_p5_mean).\n",
            "Polling for task (id: s1_per_superpixel_2017_VV_p5_mean).\n",
            "Polling for task (id: s1_per_superpixel_2017_VV_p5_mean).\n",
            "Polling for task (id: s1_per_superpixel_2017_VV_p5_mean).\n",
            "Polling for task (id: s1_per_superpixel_2017_VV_p5_mean).\n",
            "Polling for task (id: s1_per_superpixel_2017_VV_p5_mean).\n",
            "Polling for task (id: s1_per_superpixel_2017_VV_p5_mean).\n",
            "Polling for task (id: s1_per_superpixel_2017_VV_p5_mean).\n",
            "Polling for task (id: s1_per_superpixel_2017_VV_p5_mean).\n",
            "Polling for task (id: s1_per_superpixel_2017_VV_p5_mean).\n",
            "Polling for task (id: s1_per_superpixel_2017_VV_p5_mean).\n",
            "Polling for task (id: s1_per_superpixel_2017_VV_p5_mean).\n",
            "Polling for task (id: s1_per_superpixel_2017_VV_p5_mean).\n",
            "Polling for task (id: s1_per_superpixel_2017_VV_p5_mean).\n",
            "Polling for task (id: s1_per_superpixel_2017_VV_p5_mean).\n",
            "Polling for task (id: s1_per_superpixel_2017_VV_p5_mean).\n",
            "Polling for task (id: s1_per_superpixel_2017_VV_p5_mean).\n",
            "Polling for task (id: s1_per_superpixel_2017_VV_p5_mean).\n",
            "Polling for task (id: s1_per_superpixel_2017_VV_p5_mean).\n",
            "Polling for task (id: s1_per_superpixel_2017_VV_p5_mean).\n",
            "Polling for task (id: s1_per_superpixel_2017_VV_p5_mean).\n",
            "Polling for task (id: s1_per_superpixel_2017_VV_p5_mean).\n",
            "Polling for task (id: s1_per_superpixel_2017_VV_p5_mean).\n",
            "Polling for task (id: s1_per_superpixel_2017_VV_p5_mean).\n",
            "Polling for task (id: s1_per_superpixel_2017_VV_p5_mean).\n",
            "Polling for task (id: s1_per_superpixel_2017_VV_p5_mean).\n",
            "Polling for task (id: s1_per_superpixel_2017_VV_p5_mean).\n",
            "Polling for task (id: s1_per_superpixel_2017_VV_p5_mean).\n",
            "Polling for task (id: s1_per_superpixel_2017_VV_p5_mean).\n",
            "Polling for task (id: s1_per_superpixel_2017_VV_p5_mean).\n",
            "Polling for task (id: s1_per_superpixel_2017_VV_p5_mean).\n",
            "Polling for task (id: s1_per_superpixel_2017_VV_p5_mean).\n",
            "Polling for task (id: s1_per_superpixel_2017_VV_p5_mean).\n",
            "Polling for task (id: s1_per_superpixel_2017_VV_p5_mean).\n",
            "Polling for task (id: s1_per_superpixel_2017_VV_p5_mean).\n",
            "Polling for task (id: s1_per_superpixel_2017_VV_p5_mean).\n",
            "Polling for task (id: s1_per_superpixel_2017_VV_p5_mean).\n",
            "Polling for task (id: s1_per_superpixel_2017_VV_p5_mean).\n",
            "Polling for task (id: s1_per_superpixel_2017_VV_p5_mean).\n",
            "Polling for task (id: s1_per_superpixel_2017_VV_p5_mean).\n",
            "Polling for task (id: s1_per_superpixel_2017_VV_p5_mean).\n",
            "Polling for task (id: s1_per_superpixel_2017_VV_p5_mean).\n",
            "Polling for task (id: s1_per_superpixel_2017_VV_p5_mean).\n",
            "Polling for task (id: s1_per_superpixel_2017_VV_p5_mean).\n",
            "Polling for task (id: s1_per_superpixel_2017_VV_p5_mean).\n",
            "Polling for task (id: s1_per_superpixel_2017_VV_p5_mean).\n",
            "Polling for task (id: s1_per_superpixel_2017_VV_p5_mean).\n",
            "Polling for task (id: s1_per_superpixel_2017_VV_p5_mean).\n",
            "Polling for task (id: s1_per_superpixel_2017_VV_p5_mean).\n",
            "Polling for task (id: s1_per_superpixel_2017_VV_p5_mean).\n",
            "Polling for task (id: s1_per_superpixel_2017_VV_p5_mean).\n",
            "Polling for task (id: s1_per_superpixel_2017_VV_p5_mean).\n",
            "Polling for task (id: s1_per_superpixel_2017_VV_p5_mean).\n",
            "Polling for task (id: s1_per_superpixel_2017_VV_p5_mean).\n",
            "Polling for task (id: s1_per_superpixel_2017_VV_p5_mean).\n",
            "Polling for task (id: s1_per_superpixel_2017_VV_p5_mean).\n",
            "Polling for task (id: s1_per_superpixel_2017_VV_p5_mean).\n",
            "Polling for task (id: s1_per_superpixel_2017_VV_p5_mean).\n",
            "Polling for task (id: s1_per_superpixel_2017_VV_p5_mean).\n",
            "Polling for task (id: s1_per_superpixel_2017_VV_p5_mean).\n",
            "Polling for task (id: s1_per_superpixel_2017_VV_p5_mean).\n",
            "Polling for task (id: s1_per_superpixel_2017_VV_p5_mean).\n",
            "Polling for task (id: s1_per_superpixel_2017_VV_p5_mean).\n",
            "Polling for task (id: s1_per_superpixel_2017_VV_p5_mean).\n",
            "Polling for task (id: s1_per_superpixel_2017_VV_p5_mean).\n",
            "Polling for task (id: s1_per_superpixel_2017_VV_p5_mean).\n",
            "Polling for task (id: s1_per_superpixel_2017_VV_p5_mean).\n",
            "Polling for task (id: s1_per_superpixel_2017_VV_p5_mean).\n",
            "Polling for task (id: s1_per_superpixel_2017_VV_p5_mean).\n",
            "Polling for task (id: s1_per_superpixel_2017_VV_p5_mean).\n",
            "Polling for task (id: s1_per_superpixel_2017_VV_p5_mean).\n",
            "Polling for task (id: s1_per_superpixel_2017_VV_p5_mean).\n",
            "Polling for task (id: s1_per_superpixel_2017_VV_p5_mean).\n",
            "Polling for task (id: s1_per_superpixel_2017_VV_p5_mean).\n",
            "Polling for task (id: s1_per_superpixel_2017_VV_p5_mean).\n",
            "Polling for task (id: s1_per_superpixel_2017_VV_p5_mean).\n",
            "Polling for task (id: s1_per_superpixel_2017_VV_p5_mean).\n",
            "Polling for task (id: s1_per_superpixel_2017_VV_p5_mean).\n",
            "Polling for task (id: s1_per_superpixel_2017_VV_p5_mean).\n",
            "Polling for task (id: s1_per_superpixel_2017_VV_p5_mean).\n",
            "Polling for task (id: s1_per_superpixel_2017_VV_p5_mean).\n",
            "Polling for task (id: s1_per_superpixel_2017_VV_p5_mean).\n",
            "Polling for task (id: s1_per_superpixel_2017_VV_p5_mean).\n",
            "Polling for task (id: s1_per_superpixel_2017_VV_p5_mean).\n",
            "Polling for task (id: s1_per_superpixel_2017_VV_p5_mean).\n",
            "Polling for task (id: s1_per_superpixel_2017_VV_p5_mean).\n",
            "Polling for task (id: s1_per_superpixel_2017_VV_p5_mean).\n",
            "Polling for task (id: s1_per_superpixel_2017_VV_p5_mean).\n",
            "Polling for task (id: s1_per_superpixel_2017_VV_p5_mean).\n",
            "Polling for task (id: s1_per_superpixel_2017_VV_p5_mean).\n",
            "Polling for task (id: s1_per_superpixel_2017_VV_p5_mean).\n",
            "Polling for task (id: s1_per_superpixel_2017_VV_p5_mean).\n",
            "Polling for task (id: s1_per_superpixel_2017_VV_p5_mean).\n",
            "Polling for task (id: s1_per_superpixel_2017_VV_p5_mean).\n",
            "Polling for task (id: s1_per_superpixel_2017_VV_p5_mean).\n",
            "Polling for task (id: s1_per_superpixel_2017_VV_p5_mean).\n",
            "Polling for task (id: s1_per_superpixel_2017_VV_p5_mean).\n",
            "Polling for task (id: s1_per_superpixel_2017_VV_p5_mean).\n",
            "Polling for task (id: s1_per_superpixel_2017_VV_p5_mean).\n",
            "Polling for task (id: s1_per_superpixel_2017_VV_p5_mean).\n",
            "Polling for task (id: s1_per_superpixel_2017_VV_p5_mean).\n",
            "Polling for task (id: s1_per_superpixel_2017_VV_p5_mean).\n",
            "Polling for task (id: s1_per_superpixel_2017_VV_p5_mean).\n",
            "Polling for task (id: s1_per_superpixel_2017_VV_p5_mean).\n",
            "Polling for task (id: s1_per_superpixel_2017_VV_p5_mean).\n",
            "Polling for task (id: s1_per_superpixel_2017_VV_p5_mean).\n",
            "Polling for task (id: s1_per_superpixel_2017_VV_p5_mean).\n",
            "Polling for task (id: s1_per_superpixel_2017_VV_p5_mean).\n",
            "Polling for task (id: s1_per_superpixel_2017_VV_p10_mean).\n",
            "Polling for task (id: s1_per_superpixel_2017_VV_p10_mean).\n",
            "Polling for task (id: s1_per_superpixel_2017_VV_p10_mean).\n",
            "Polling for task (id: s1_per_superpixel_2017_VV_p10_mean).\n",
            "Polling for task (id: s1_per_superpixel_2017_VV_p10_mean).\n",
            "Polling for task (id: s1_per_superpixel_2017_VV_p10_mean).\n",
            "Polling for task (id: s1_per_superpixel_2017_VV_p10_mean).\n",
            "Polling for task (id: s1_per_superpixel_2017_VV_p10_mean).\n",
            "Polling for task (id: s1_per_superpixel_2017_VV_p10_mean).\n",
            "Polling for task (id: s1_per_superpixel_2017_VV_p10_mean).\n",
            "Polling for task (id: s1_per_superpixel_2017_VV_p10_mean).\n",
            "Polling for task (id: s1_per_superpixel_2017_VV_p10_mean).\n",
            "Polling for task (id: s1_per_superpixel_2017_VV_p10_mean).\n",
            "Polling for task (id: s1_per_superpixel_2017_VV_p10_mean).\n",
            "Polling for task (id: s1_per_superpixel_2017_VV_p10_mean).\n",
            "Polling for task (id: s1_per_superpixel_2017_VV_p10_mean).\n",
            "Polling for task (id: s1_per_superpixel_2017_VV_p10_mean).\n",
            "Polling for task (id: s1_per_superpixel_2017_VV_p10_mean).\n",
            "Polling for task (id: s1_per_superpixel_2017_VV_p10_mean).\n",
            "Polling for task (id: s1_per_superpixel_2017_VV_p10_mean).\n",
            "Polling for task (id: s1_per_superpixel_2017_VV_p10_mean).\n",
            "Polling for task (id: s1_per_superpixel_2017_VV_p10_mean).\n",
            "Polling for task (id: s1_per_superpixel_2017_VV_p10_mean).\n",
            "Polling for task (id: s1_per_superpixel_2017_VV_p10_mean).\n",
            "Polling for task (id: s1_per_superpixel_2017_VV_p10_mean).\n",
            "Polling for task (id: s1_per_superpixel_2017_VV_p10_mean).\n",
            "Polling for task (id: s1_per_superpixel_2017_VV_p10_mean).\n",
            "Polling for task (id: s1_per_superpixel_2017_VV_p10_mean).\n",
            "Polling for task (id: s1_per_superpixel_2017_VV_p10_mean).\n",
            "Polling for task (id: s1_per_superpixel_2017_VV_p10_mean).\n",
            "Polling for task (id: s1_per_superpixel_2017_VV_p10_mean).\n",
            "Polling for task (id: s1_per_superpixel_2017_VV_p10_mean).\n",
            "Polling for task (id: s1_per_superpixel_2017_VV_p10_mean).\n",
            "Polling for task (id: s1_per_superpixel_2017_VV_p10_mean).\n",
            "Polling for task (id: s1_per_superpixel_2017_VV_p10_mean).\n",
            "Polling for task (id: s1_per_superpixel_2017_VV_p10_mean).\n",
            "Polling for task (id: s1_per_superpixel_2017_VV_p10_mean).\n",
            "Polling for task (id: s1_per_superpixel_2017_VV_p10_mean).\n",
            "Polling for task (id: s1_per_superpixel_2017_VV_p10_mean).\n",
            "Polling for task (id: s1_per_superpixel_2017_VV_p10_mean).\n",
            "Polling for task (id: s1_per_superpixel_2017_VV_p10_mean).\n",
            "Polling for task (id: s1_per_superpixel_2017_VV_p10_mean).\n",
            "Polling for task (id: s1_per_superpixel_2017_VV_p10_mean).\n",
            "Polling for task (id: s1_per_superpixel_2017_VV_p10_mean).\n",
            "Polling for task (id: s1_per_superpixel_2017_VV_p10_mean).\n",
            "Polling for task (id: s1_per_superpixel_2017_VV_p10_mean).\n",
            "Polling for task (id: s1_per_superpixel_2017_VV_p10_mean).\n",
            "Polling for task (id: s1_per_superpixel_2017_VV_p10_mean).\n",
            "Polling for task (id: s1_per_superpixel_2017_VV_p10_mean).\n",
            "Polling for task (id: s1_per_superpixel_2017_VV_p10_mean).\n",
            "Polling for task (id: s1_per_superpixel_2017_VV_p10_mean).\n",
            "Polling for task (id: s1_per_superpixel_2017_VV_p10_mean).\n",
            "Polling for task (id: s1_per_superpixel_2017_VV_p10_mean).\n",
            "Polling for task (id: s1_per_superpixel_2017_VV_p10_mean).\n",
            "Polling for task (id: s1_per_superpixel_2017_VV_p10_mean).\n",
            "Polling for task (id: s1_per_superpixel_2017_VV_p10_mean).\n",
            "Polling for task (id: s1_per_superpixel_2017_VV_p10_mean).\n",
            "Polling for task (id: s1_per_superpixel_2017_VV_p10_mean).\n",
            "Polling for task (id: s1_per_superpixel_2017_VV_p10_mean).\n",
            "Polling for task (id: s1_per_superpixel_2017_VV_p10_mean).\n",
            "Polling for task (id: s1_per_superpixel_2017_VV_p10_mean).\n",
            "Polling for task (id: s1_per_superpixel_2017_VV_p10_mean).\n",
            "Polling for task (id: s1_per_superpixel_2017_VV_p10_mean).\n",
            "Polling for task (id: s1_per_superpixel_2017_VV_p10_mean).\n",
            "Polling for task (id: s1_per_superpixel_2017_VV_p10_mean).\n",
            "Polling for task (id: s1_per_superpixel_2017_VV_p10_mean).\n",
            "Polling for task (id: s1_per_superpixel_2017_VV_p10_mean).\n",
            "Polling for task (id: s1_per_superpixel_2017_VV_p10_mean).\n",
            "Polling for task (id: s1_per_superpixel_2017_VV_p10_mean).\n",
            "Polling for task (id: s1_per_superpixel_2017_VV_p25_mean).\n",
            "Polling for task (id: s1_per_superpixel_2017_VV_p25_mean).\n",
            "Polling for task (id: s1_per_superpixel_2017_VV_p25_mean).\n",
            "Polling for task (id: s1_per_superpixel_2017_VV_p25_mean).\n",
            "Polling for task (id: s1_per_superpixel_2017_VV_p25_mean).\n",
            "Polling for task (id: s1_per_superpixel_2017_VV_p25_mean).\n",
            "Polling for task (id: s1_per_superpixel_2017_VV_p25_mean).\n",
            "Polling for task (id: s1_per_superpixel_2017_VV_p25_mean).\n",
            "Polling for task (id: s1_per_superpixel_2017_VV_p25_mean).\n",
            "Polling for task (id: s1_per_superpixel_2017_VV_p25_mean).\n",
            "Polling for task (id: s1_per_superpixel_2017_VV_p25_mean).\n",
            "Polling for task (id: s1_per_superpixel_2017_VV_p25_mean).\n",
            "Polling for task (id: s1_per_superpixel_2017_VV_p25_mean).\n",
            "Polling for task (id: s1_per_superpixel_2017_VV_p25_mean).\n",
            "Polling for task (id: s1_per_superpixel_2017_VV_p25_mean).\n",
            "Polling for task (id: s1_per_superpixel_2017_VV_p25_mean).\n",
            "Polling for task (id: s1_per_superpixel_2017_VV_p25_mean).\n",
            "Polling for task (id: s1_per_superpixel_2017_VV_p25_mean).\n",
            "Polling for task (id: s1_per_superpixel_2017_VV_p25_mean).\n",
            "Polling for task (id: s1_per_superpixel_2017_VV_p25_mean).\n",
            "Polling for task (id: s1_per_superpixel_2017_VV_p25_mean).\n",
            "Polling for task (id: s1_per_superpixel_2017_VV_p25_mean).\n",
            "Polling for task (id: s1_per_superpixel_2017_VV_p25_mean).\n",
            "Polling for task (id: s1_per_superpixel_2017_VV_p25_mean).\n",
            "Polling for task (id: s1_per_superpixel_2017_VV_p25_mean).\n",
            "Polling for task (id: s1_per_superpixel_2017_VV_p25_mean).\n",
            "Polling for task (id: s1_per_superpixel_2017_VV_p25_mean).\n",
            "Polling for task (id: s1_per_superpixel_2017_VV_p25_mean).\n",
            "Polling for task (id: s1_per_superpixel_2017_VV_p25_mean).\n",
            "Polling for task (id: s1_per_superpixel_2017_VV_p25_mean).\n",
            "Polling for task (id: s1_per_superpixel_2017_VV_p25_mean).\n",
            "Polling for task (id: s1_per_superpixel_2017_VV_p25_mean).\n",
            "Polling for task (id: s1_per_superpixel_2017_VV_p25_mean).\n",
            "Polling for task (id: s1_per_superpixel_2017_VV_p25_mean).\n",
            "Polling for task (id: s1_per_superpixel_2017_VV_p25_mean).\n",
            "Polling for task (id: s1_per_superpixel_2017_VV_p25_mean).\n",
            "Polling for task (id: s1_per_superpixel_2017_VV_p25_mean).\n",
            "Polling for task (id: s1_per_superpixel_2017_VV_p25_mean).\n",
            "Polling for task (id: s1_per_superpixel_2017_VV_p25_mean).\n",
            "Polling for task (id: s1_per_superpixel_2017_VV_p25_mean).\n",
            "Polling for task (id: s1_per_superpixel_2017_VV_p25_mean).\n",
            "Polling for task (id: s1_per_superpixel_2017_VV_p25_mean).\n",
            "Polling for task (id: s1_per_superpixel_2017_VV_p25_mean).\n",
            "Polling for task (id: s1_per_superpixel_2017_VV_p25_mean).\n",
            "Polling for task (id: s1_per_superpixel_2017_VV_p25_mean).\n",
            "Polling for task (id: s1_per_superpixel_2017_VV_p25_mean).\n",
            "Polling for task (id: s1_per_superpixel_2017_VV_p25_mean).\n",
            "Polling for task (id: s1_per_superpixel_2017_VV_p25_mean).\n",
            "Polling for task (id: s1_per_superpixel_2017_VV_p25_mean).\n",
            "Polling for task (id: s1_per_superpixel_2017_VV_p25_mean).\n",
            "Polling for task (id: s1_per_superpixel_2017_VV_p25_mean).\n",
            "Polling for task (id: s1_per_superpixel_2017_VV_p25_mean).\n",
            "Polling for task (id: s1_per_superpixel_2017_VV_p25_mean).\n",
            "Polling for task (id: s1_per_superpixel_2017_VV_p25_mean).\n",
            "Polling for task (id: s1_per_superpixel_2017_VV_p25_mean).\n",
            "Polling for task (id: s1_per_superpixel_2017_VV_p25_mean).\n",
            "Polling for task (id: s1_per_superpixel_2017_VV_p25_mean).\n",
            "Polling for task (id: s1_per_superpixel_2017_VV_p25_mean).\n",
            "Polling for task (id: s1_per_superpixel_2017_VV_p25_mean).\n",
            "Polling for task (id: s1_per_superpixel_2017_VV_p25_mean).\n",
            "Polling for task (id: s1_per_superpixel_2017_VV_p25_mean).\n",
            "Polling for task (id: s1_per_superpixel_2017_VV_p25_mean).\n",
            "Polling for task (id: s1_per_superpixel_2017_VV_p25_mean).\n",
            "Polling for task (id: s1_per_superpixel_2017_VV_p25_mean).\n",
            "Polling for task (id: s1_per_superpixel_2017_VV_p25_mean).\n",
            "Polling for task (id: s1_per_superpixel_2017_VV_p25_mean).\n",
            "Polling for task (id: s1_per_superpixel_2017_VV_p25_mean).\n",
            "Polling for task (id: s1_per_superpixel_2017_VV_p25_mean).\n",
            "Polling for task (id: s1_per_superpixel_2017_VV_p25_mean).\n",
            "Polling for task (id: s1_per_superpixel_2017_VV_p25_mean).\n",
            "Polling for task (id: s1_per_superpixel_2017_VV_p25_mean).\n",
            "Polling for task (id: s1_per_superpixel_2017_VV_p25_mean).\n",
            "Polling for task (id: s1_per_superpixel_2017_VV_p25_mean).\n",
            "Polling for task (id: s1_per_superpixel_2017_VV_p25_mean).\n",
            "Polling for task (id: s1_per_superpixel_2017_VV_p25_mean).\n",
            "Polling for task (id: s1_per_superpixel_2017_VV_p25_mean).\n",
            "Polling for task (id: s1_per_superpixel_2017_VV_p25_mean).\n",
            "Polling for task (id: s1_per_superpixel_2017_VV_p25_mean).\n",
            "Polling for task (id: s1_per_superpixel_2017_VV_p25_mean).\n",
            "Polling for task (id: s1_per_superpixel_2017_VV_p25_mean).\n",
            "Polling for task (id: s1_per_superpixel_2017_VV_p25_mean).\n",
            "Polling for task (id: s1_per_superpixel_2017_VV_p25_mean).\n",
            "Polling for task (id: s1_per_superpixel_2017_VV_p25_mean).\n",
            "Polling for task (id: s1_per_superpixel_2017_VV_p25_mean).\n",
            "Polling for task (id: s1_per_superpixel_2017_VV_p25_mean).\n",
            "Polling for task (id: s1_per_superpixel_2017_VV_p25_mean).\n",
            "Polling for task (id: s1_per_superpixel_2017_VV_p25_mean).\n",
            "Polling for task (id: s1_per_superpixel_2017_VV_p25_mean).\n",
            "Polling for task (id: s1_per_superpixel_2017_VV_p25_mean).\n",
            "Polling for task (id: s1_per_superpixel_2017_VV_p25_mean).\n",
            "Polling for task (id: s1_per_superpixel_2017_VV_p25_mean).\n",
            "Polling for task (id: s1_per_superpixel_2017_VV_p25_mean).\n",
            "Polling for task (id: s1_per_superpixel_2017_VV_p25_mean).\n",
            "Polling for task (id: s1_per_superpixel_2017_VV_p25_mean).\n",
            "Polling for task (id: s1_per_superpixel_2017_VV_p25_mean).\n",
            "Polling for task (id: s1_per_superpixel_2017_VV_p25_mean).\n",
            "Polling for task (id: s1_per_superpixel_2017_VV_p25_mean).\n",
            "Polling for task (id: s1_per_superpixel_2017_VV_p25_mean).\n",
            "Polling for task (id: s1_per_superpixel_2017_VV_p25_mean).\n",
            "Polling for task (id: s1_per_superpixel_2017_VV_p25_mean).\n",
            "Polling for task (id: s1_per_superpixel_2017_VV_p25_mean).\n",
            "Polling for task (id: s1_per_superpixel_2017_VV_p25_mean).\n",
            "Polling for task (id: s1_per_superpixel_2017_VV_p25_mean).\n",
            "Polling for task (id: s1_per_superpixel_2017_VV_p25_mean).\n",
            "Polling for task (id: s1_per_superpixel_2017_VV_p25_mean).\n",
            "Polling for task (id: s1_per_superpixel_2017_VV_p25_mean).\n",
            "Polling for task (id: s1_per_superpixel_2017_VV_p25_mean).\n",
            "Polling for task (id: s1_per_superpixel_2017_VV_p25_mean).\n",
            "Polling for task (id: s1_per_superpixel_2017_VV_p50_mean).\n",
            "Polling for task (id: s1_per_superpixel_2017_VV_p50_mean).\n",
            "Polling for task (id: s1_per_superpixel_2017_VV_p50_mean).\n",
            "Polling for task (id: s1_per_superpixel_2017_VV_p50_mean).\n",
            "Polling for task (id: s1_per_superpixel_2017_VV_p50_mean).\n",
            "Polling for task (id: s1_per_superpixel_2017_VV_p50_mean).\n",
            "Polling for task (id: s1_per_superpixel_2017_VV_p50_mean).\n",
            "Polling for task (id: s1_per_superpixel_2017_VV_p50_mean).\n",
            "Polling for task (id: s1_per_superpixel_2017_VV_p50_mean).\n",
            "Polling for task (id: s1_per_superpixel_2017_VV_p50_mean).\n",
            "Polling for task (id: s1_per_superpixel_2017_VV_p50_mean).\n",
            "Polling for task (id: s1_per_superpixel_2017_VV_p50_mean).\n",
            "Polling for task (id: s1_per_superpixel_2017_VV_p50_mean).\n",
            "Polling for task (id: s1_per_superpixel_2017_VV_p50_mean).\n",
            "Polling for task (id: s1_per_superpixel_2017_VV_p50_mean).\n",
            "Polling for task (id: s1_per_superpixel_2017_VV_p50_mean).\n",
            "Polling for task (id: s1_per_superpixel_2017_VV_p50_mean).\n",
            "Polling for task (id: s1_per_superpixel_2017_VV_p50_mean).\n",
            "Polling for task (id: s1_per_superpixel_2017_VV_p50_mean).\n",
            "Polling for task (id: s1_per_superpixel_2017_VV_p50_mean).\n",
            "Polling for task (id: s1_per_superpixel_2017_VV_p50_mean).\n",
            "Polling for task (id: s1_per_superpixel_2017_VV_p50_mean).\n",
            "Polling for task (id: s1_per_superpixel_2017_VV_p50_mean).\n",
            "Polling for task (id: s1_per_superpixel_2017_VV_p50_mean).\n",
            "Polling for task (id: s1_per_superpixel_2017_VV_p50_mean).\n",
            "Polling for task (id: s1_per_superpixel_2017_VV_p50_mean).\n",
            "Polling for task (id: s1_per_superpixel_2017_VV_p50_mean).\n",
            "Polling for task (id: s1_per_superpixel_2017_VV_p50_mean).\n",
            "Polling for task (id: s1_per_superpixel_2017_VV_p50_mean).\n",
            "Polling for task (id: s1_per_superpixel_2017_VV_p50_mean).\n",
            "Polling for task (id: s1_per_superpixel_2017_VV_p50_mean).\n",
            "Polling for task (id: s1_per_superpixel_2017_VV_p50_mean).\n",
            "Polling for task (id: s1_per_superpixel_2017_VV_p50_mean).\n",
            "Polling for task (id: s1_per_superpixel_2017_VV_p50_mean).\n",
            "Polling for task (id: s1_per_superpixel_2017_VV_p50_mean).\n",
            "Polling for task (id: s1_per_superpixel_2017_VV_p50_mean).\n",
            "Polling for task (id: s1_per_superpixel_2017_VV_p50_mean).\n",
            "Polling for task (id: s1_per_superpixel_2017_VV_p50_mean).\n",
            "Polling for task (id: s1_per_superpixel_2017_VV_p50_mean).\n",
            "Polling for task (id: s1_per_superpixel_2017_VV_p50_mean).\n",
            "Polling for task (id: s1_per_superpixel_2017_VV_p50_mean).\n",
            "Polling for task (id: s1_per_superpixel_2017_VV_p50_mean).\n",
            "Polling for task (id: s1_per_superpixel_2017_VV_p50_mean).\n",
            "Polling for task (id: s1_per_superpixel_2017_VV_p50_mean).\n",
            "Polling for task (id: s1_per_superpixel_2017_VV_p50_mean).\n",
            "Polling for task (id: s1_per_superpixel_2017_VV_p50_mean).\n",
            "Polling for task (id: s1_per_superpixel_2017_VV_p50_mean).\n",
            "Polling for task (id: s1_per_superpixel_2017_VV_p50_mean).\n",
            "Polling for task (id: s1_per_superpixel_2017_VV_p50_mean).\n",
            "Polling for task (id: s1_per_superpixel_2017_VV_p50_mean).\n",
            "Polling for task (id: s1_per_superpixel_2017_VV_p50_mean).\n",
            "Polling for task (id: s1_per_superpixel_2017_VV_p50_mean).\n",
            "Polling for task (id: s1_per_superpixel_2017_VV_p50_mean).\n",
            "Polling for task (id: s1_per_superpixel_2017_VV_p50_mean).\n",
            "Polling for task (id: s1_per_superpixel_2017_VV_p50_mean).\n",
            "Polling for task (id: s1_per_superpixel_2017_VV_p50_mean).\n",
            "Polling for task (id: s1_per_superpixel_2017_VV_p50_mean).\n",
            "Polling for task (id: s1_per_superpixel_2017_VV_p50_mean).\n",
            "Polling for task (id: s1_per_superpixel_2017_VV_p50_mean).\n",
            "Polling for task (id: s1_per_superpixel_2017_VV_p50_mean).\n",
            "Polling for task (id: s1_per_superpixel_2017_VV_p50_mean).\n",
            "Polling for task (id: s1_per_superpixel_2017_VV_p50_mean).\n",
            "Polling for task (id: s1_per_superpixel_2017_VV_p50_mean).\n",
            "Polling for task (id: s1_per_superpixel_2017_VV_p50_mean).\n",
            "Polling for task (id: s1_per_superpixel_2017_VV_p50_mean).\n",
            "Polling for task (id: s1_per_superpixel_2017_VV_p50_mean).\n",
            "Polling for task (id: s1_per_superpixel_2017_VV_p50_mean).\n",
            "Polling for task (id: s1_per_superpixel_2017_VV_p50_mean).\n",
            "Polling for task (id: s1_per_superpixel_2017_VV_p50_mean).\n",
            "Polling for task (id: s1_per_superpixel_2017_VV_p50_mean).\n",
            "Polling for task (id: s1_per_superpixel_2017_VV_p50_mean).\n",
            "Polling for task (id: s1_per_superpixel_2017_VV_p50_mean).\n",
            "Polling for task (id: s1_per_superpixel_2017_VV_p50_mean).\n",
            "Polling for task (id: s1_per_superpixel_2017_VV_p50_mean).\n",
            "Polling for task (id: s1_per_superpixel_2017_VV_p50_mean).\n",
            "Polling for task (id: s1_per_superpixel_2017_VV_p50_mean).\n",
            "Polling for task (id: s1_per_superpixel_2017_VV_p50_mean).\n",
            "Polling for task (id: s1_per_superpixel_2017_VV_p50_mean).\n",
            "Polling for task (id: s1_per_superpixel_2017_VV_p50_mean).\n",
            "Polling for task (id: s1_per_superpixel_2017_VV_p50_mean).\n",
            "Polling for task (id: s1_per_superpixel_2017_VV_p50_mean).\n",
            "Polling for task (id: s1_per_superpixel_2017_VV_p50_mean).\n",
            "Polling for task (id: s1_per_superpixel_2017_VV_p50_mean).\n",
            "Polling for task (id: s1_per_superpixel_2017_VV_p50_mean).\n",
            "Polling for task (id: s1_per_superpixel_2017_VV_p50_mean).\n",
            "Polling for task (id: s1_per_superpixel_2017_VV_p50_mean).\n",
            "Polling for task (id: s1_per_superpixel_2017_VV_p50_mean).\n",
            "Polling for task (id: s1_per_superpixel_2017_VV_p50_mean).\n",
            "Polling for task (id: s1_per_superpixel_2017_VV_p50_mean).\n",
            "Polling for task (id: s1_per_superpixel_2017_VV_p75_mean).\n",
            "Polling for task (id: s1_per_superpixel_2017_VV_p75_mean).\n",
            "Polling for task (id: s1_per_superpixel_2017_VV_p75_mean).\n",
            "Polling for task (id: s1_per_superpixel_2017_VV_p75_mean).\n",
            "Polling for task (id: s1_per_superpixel_2017_VV_p75_mean).\n",
            "Polling for task (id: s1_per_superpixel_2017_VV_p75_mean).\n",
            "Polling for task (id: s1_per_superpixel_2017_VV_p75_mean).\n",
            "Polling for task (id: s1_per_superpixel_2017_VV_p75_mean).\n",
            "Polling for task (id: s1_per_superpixel_2017_VV_p75_mean).\n",
            "Polling for task (id: s1_per_superpixel_2017_VV_p75_mean).\n",
            "Polling for task (id: s1_per_superpixel_2017_VV_p75_mean).\n",
            "Polling for task (id: s1_per_superpixel_2017_VV_p75_mean).\n",
            "Polling for task (id: s1_per_superpixel_2017_VV_p75_mean).\n",
            "Polling for task (id: s1_per_superpixel_2017_VV_p75_mean).\n",
            "Polling for task (id: s1_per_superpixel_2017_VV_p75_mean).\n",
            "Polling for task (id: s1_per_superpixel_2017_VV_p75_mean).\n",
            "Polling for task (id: s1_per_superpixel_2017_VV_p75_mean).\n",
            "Polling for task (id: s1_per_superpixel_2017_VV_p75_mean).\n",
            "Polling for task (id: s1_per_superpixel_2017_VV_p75_mean).\n",
            "Polling for task (id: s1_per_superpixel_2017_VV_p75_mean).\n",
            "Polling for task (id: s1_per_superpixel_2017_VV_p75_mean).\n",
            "Polling for task (id: s1_per_superpixel_2017_VV_p75_mean).\n",
            "Polling for task (id: s1_per_superpixel_2017_VV_p75_mean).\n",
            "Polling for task (id: s1_per_superpixel_2017_VV_p75_mean).\n",
            "Polling for task (id: s1_per_superpixel_2017_VV_p75_mean).\n",
            "Polling for task (id: s1_per_superpixel_2017_VV_p75_mean).\n",
            "Polling for task (id: s1_per_superpixel_2017_VV_p75_mean).\n",
            "Polling for task (id: s1_per_superpixel_2017_VV_p75_mean).\n",
            "Polling for task (id: s1_per_superpixel_2017_VV_p75_mean).\n",
            "Polling for task (id: s1_per_superpixel_2017_VV_p75_mean).\n",
            "Polling for task (id: s1_per_superpixel_2017_VV_p75_mean).\n",
            "Polling for task (id: s1_per_superpixel_2017_VV_p75_mean).\n",
            "Polling for task (id: s1_per_superpixel_2017_VV_p75_mean).\n",
            "Polling for task (id: s1_per_superpixel_2017_VV_p75_mean).\n",
            "Polling for task (id: s1_per_superpixel_2017_VV_p75_mean).\n",
            "Polling for task (id: s1_per_superpixel_2017_VV_p75_mean).\n",
            "Polling for task (id: s1_per_superpixel_2017_VV_p75_mean).\n",
            "Polling for task (id: s1_per_superpixel_2017_VV_p75_mean).\n",
            "Polling for task (id: s1_per_superpixel_2017_VV_p75_mean).\n",
            "Polling for task (id: s1_per_superpixel_2017_VV_p75_mean).\n",
            "Polling for task (id: s1_per_superpixel_2017_VV_p75_mean).\n",
            "Polling for task (id: s1_per_superpixel_2017_VV_p75_mean).\n",
            "Polling for task (id: s1_per_superpixel_2017_VV_p75_mean).\n",
            "Polling for task (id: s1_per_superpixel_2017_VV_p75_mean).\n",
            "Polling for task (id: s1_per_superpixel_2017_VV_p75_mean).\n",
            "Polling for task (id: s1_per_superpixel_2017_VV_p75_mean).\n",
            "Polling for task (id: s1_per_superpixel_2017_VV_p75_mean).\n",
            "Polling for task (id: s1_per_superpixel_2017_VV_p75_mean).\n",
            "Polling for task (id: s1_per_superpixel_2017_VV_p75_mean).\n",
            "Polling for task (id: s1_per_superpixel_2017_VV_p75_mean).\n",
            "Polling for task (id: s1_per_superpixel_2017_VV_p75_mean).\n",
            "Polling for task (id: s1_per_superpixel_2017_VV_p75_mean).\n",
            "Polling for task (id: s1_per_superpixel_2017_VV_p75_mean).\n",
            "Polling for task (id: s1_per_superpixel_2017_VV_p75_mean).\n",
            "Polling for task (id: s1_per_superpixel_2017_VV_p75_mean).\n",
            "Polling for task (id: s1_per_superpixel_2017_VV_p75_mean).\n",
            "Polling for task (id: s1_per_superpixel_2017_VV_p75_mean).\n",
            "Polling for task (id: s1_per_superpixel_2017_VV_p75_mean).\n"
          ],
          "name": "stdout"
        }
      ]
    }
  ]
}